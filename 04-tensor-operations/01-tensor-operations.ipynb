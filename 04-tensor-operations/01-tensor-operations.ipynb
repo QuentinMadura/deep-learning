{
 "cells": [
  {
   "cell_type": "markdown",
   "metadata": {},
   "source": [
    "# Wikipage - Dummies Tensors Functions \n",
    "\n",
    "This jupyter notebook is in relation to the first part of the course on the deep learning provided by the speakers of the platform jovian.io. \n",
    "\n",
    "This first exercice will focus on how to use torch.tensor according the function present on the documentation https://pytorch.org/docs/stable/tensors.html#. The objective is to write a documentation about 5 functions.\n",
    "\n",
    "### Subtitle Here\n",
    "I selected five functions accross the differents sections in the pytorch package. \n",
    "\n",
    "- Mean\n",
    "- Transpose\n",
    "- Where\n",
    "- Sum\n",
    "- Numpy Array"
   ]
  },
  {
   "cell_type": "code",
   "execution_count": 16,
   "metadata": {},
   "outputs": [],
   "source": [
    "# Import torch and other required modules\n",
    "import torch\n"
   ]
  },
  {
   "cell_type": "markdown",
   "metadata": {},
   "source": [
    "## mean\n",
    "\n",
    "Compute the mean of all elements in the input tensor\n",
    "\n",
    "Parameters: \n",
    "Input (tensor) :: the input tensor\n",
    "Dim (int or tuple of python:ints) – the dimension or dimensions to reduce.\n",
    "Keepdim (bool) – whether the output tensor has dim retained or not.\n",
    "Out (Tensor, optional) – the output tensor."
   ]
  },
  {
   "cell_type": "code",
   "execution_count": 46,
   "metadata": {},
   "outputs": [],
   "source": [
    "# Generate values\n",
    "x = torch.tensor([\n",
    "     [1.5, 2.5, 3.5],\n",
    "     [4.5, 5.5, 6.5]\n",
    "   ])"
   ]
  },
  {
   "cell_type": "markdown",
   "metadata": {},
   "source": [
    "Tensor contains values in 2 rows and 3 columns. "
   ]
  },
  {
   "cell_type": "code",
   "execution_count": 47,
   "metadata": {},
   "outputs": [
    {
     "data": {
      "text/plain": [
       "torch.Size([2, 3])"
      ]
     },
     "execution_count": 47,
     "metadata": {},
     "output_type": "execute_result"
    }
   ],
   "source": [
    "x.shape"
   ]
  },
  {
   "cell_type": "markdown",
   "metadata": {},
   "source": [
    "Compute the mean for all values"
   ]
  },
  {
   "cell_type": "code",
   "execution_count": 48,
   "metadata": {},
   "outputs": [
    {
     "data": {
      "text/plain": [
       "tensor(4.)"
      ]
     },
     "execution_count": 48,
     "metadata": {},
     "output_type": "execute_result"
    }
   ],
   "source": [
    "torch.mean(x)"
   ]
  },
  {
   "cell_type": "markdown",
   "metadata": {},
   "source": [
    "We can also compute the mean for the dimension\n",
    "If we specify the dimension to reduce, Pytorch will compute independently the mean for [1.5, 2.5, 3.5] and [4.5, 5.5, 6.5] dimensions in our example."
   ]
  },
  {
   "cell_type": "code",
   "execution_count": 51,
   "metadata": {},
   "outputs": [
    {
     "data": {
      "text/plain": [
       "tensor([2.5000, 5.5000])"
      ]
     },
     "execution_count": 51,
     "metadata": {},
     "output_type": "execute_result"
    }
   ],
   "source": [
    "torch.mean(x, 1)"
   ]
  },
  {
   "cell_type": "markdown",
   "metadata": {},
   "source": [
    "Last thing, we can specify if we want to keep the dimension when Pytorch compute the mean value"
   ]
  },
  {
   "cell_type": "code",
   "execution_count": 54,
   "metadata": {},
   "outputs": [
    {
     "data": {
      "text/plain": [
       "tensor([[-0.6970],\n",
       "        [ 0.0291],\n",
       "        [-0.6992],\n",
       "        [ 0.1290]])"
      ]
     },
     "execution_count": 54,
     "metadata": {},
     "output_type": "execute_result"
    }
   ],
   "source": [
    "a = torch.randn(4, 4)\n",
    "torch.mean(a, 1, True)"
   ]
  },
  {
   "cell_type": "markdown",
   "metadata": {},
   "source": [
    "## torch.transpose()\n",
    "\n",
    "With transposition, we can convert a row vector to a column vector and vice versa.\n",
    "Parameters:\n",
    "input (Tensor) – the input tensor.\n",
    "dim0 (int) – the first dimension to be transposed\n",
    "dim1 (int) – the second dimension to be transposed\n",
    "\n",
    "\n",
    "Illustration of the transpose function: \n",
    "![Transpose](transpose.png)\n"
   ]
  },
  {
   "cell_type": "code",
   "execution_count": 59,
   "metadata": {},
   "outputs": [
    {
     "name": "stdout",
     "output_type": "stream",
     "text": [
      "tensor([[1, 3],\n",
      "        [2, 4]])\n",
      "tensor([[1, 2],\n",
      "        [3, 4]])\n"
     ]
    }
   ],
   "source": [
    "x = torch.tensor([\n",
    "     [1, 3],\n",
    "     [2, 4]\n",
    "   ])\n",
    "print(torch.transpose(x, 0, 1))"
   ]
  },
  {
   "cell_type": "markdown",
   "metadata": {},
   "source": [
    "## torch.where()\n",
    "\n",
    "This function is used to specify conditions (like \"where\" in SQL) on X or Y elements.\n",
    "\n",
    "Parameters: \n",
    "condition (BoolTensor) – When True (nonzero), yield x, otherwise yield y\n",
    "x (Tensor) – values selected at indices where condition is True\n",
    "y (Tensor) – values selected at indices where condition is False"
   ]
  },
  {
   "cell_type": "code",
   "execution_count": 92,
   "metadata": {},
   "outputs": [],
   "source": [
    "x = torch.tensor([[1, 2, 3],[4, 5, 6]])\n",
    "y = torch.tensor([[4, 5, 6], [1, 2, 3]])"
   ]
  },
  {
   "cell_type": "code",
   "execution_count": 95,
   "metadata": {
    "scrolled": true
   },
   "outputs": [
    {
     "data": {
      "text/plain": [
       "tensor([[4, 5, 6],\n",
       "        [4, 5, 6]])"
      ]
     },
     "execution_count": 95,
     "metadata": {},
     "output_type": "execute_result"
    }
   ],
   "source": [
    "torch.where(x >= 4, x, y)"
   ]
  },
  {
   "cell_type": "markdown",
   "metadata": {},
   "source": [
    "Explanation with illustration: \n",
    "![where-condition](where-condition.png)"
   ]
  },
  {
   "cell_type": "markdown",
   "metadata": {},
   "source": [
    "## torch.sum()\n",
    "\n",
    "Sum of all elements in the tensor\n",
    "\n",
    "Parameters: \n",
    "input (Tensor) – the input tensor.\n",
    "dim (int or tuple of python:ints) – the dimension or dimensions to reduce.\n",
    "keepdim (bool) – whether the output tensor has dim retained or not.\n",
    "dtype (torch.dtype, optional) – the desired data type of returned tensor. If specified, the input tensor is casted to dtype before the operation is performed. This is useful for preventing data type overflows. Default: None.\n",
    "\n",
    "In this example, we will sum all elements on the dimension 0. \n",
    "The follow example is equal to:\n",
    "[[1, 3, 5] + [12, 14, 16]] = [13, 17, 21]"
   ]
  },
  {
   "cell_type": "code",
   "execution_count": 114,
   "metadata": {},
   "outputs": [
    {
     "data": {
      "text/plain": [
       "tensor([[13, 17, 21],\n",
       "        [13, 17, 21]])"
      ]
     },
     "execution_count": 114,
     "metadata": {},
     "output_type": "execute_result"
    }
   ],
   "source": [
    "x = torch.tensor([[\n",
    "     [1, 3, 5],\n",
    "     [2, 4, 6]\n",
    "   ], [\n",
    "     [12, 14, 16],\n",
    "     [11, 13, 15],\n",
    "   ]])\n",
    "\n",
    "torch.sum(x, (0))"
   ]
  },
  {
   "cell_type": "markdown",
   "metadata": {},
   "source": [
    "One other example is to sum all elements according the dimension to reduce.  \n",
    "The follow example is equal to: \n",
    "[[[1, 3, 5] + [2, 4, 6]], [[12, 14, 16]+[11, 13, 15]]] = [[[1+2, 3+4, 5+6]],[12+11, 14+13, 16+15]]] = [[[3,7,11]], [[23, 27, 31]]]"
   ]
  },
  {
   "cell_type": "code",
   "execution_count": 115,
   "metadata": {},
   "outputs": [
    {
     "data": {
      "text/plain": [
       "tensor([[[ 3,  7, 11]],\n",
       "\n",
       "        [[23, 27, 31]]])"
      ]
     },
     "execution_count": 115,
     "metadata": {},
     "output_type": "execute_result"
    }
   ],
   "source": [
    "torch.sum(x, (1, 1), True)"
   ]
  },
  {
   "cell_type": "markdown",
   "metadata": {},
   "source": [
    "## Function 5 -  numpy.ndarray\n",
    "numpy() →\n",
    "This function will create a torch from a numpy.ndarray. a numpy.ndarray is an array object that represents a multidimensional, homogeneous array of fixed-size items. \n",
    "\n",
    "Important things when you use this function: \n",
    "\n",
    "The returned tensor and ndarray share the same allocated memory. \n",
    "Every modifications to the tensor will be reflected in the ndarray and vice versa. \n",
    "The returned tensor is not resizable.\n",
    "\n",
    "First of all, we declare an array with the numpy library:"
   ]
  },
  {
   "cell_type": "code",
   "execution_count": 61,
   "metadata": {},
   "outputs": [
    {
     "name": "stdout",
     "output_type": "stream",
     "text": [
      "[1 2 3]\n"
     ]
    }
   ],
   "source": [
    "import numpy\n",
    "\n",
    "data = numpy.array([1, 2, 3])\n",
    "print(data)"
   ]
  },
  {
   "cell_type": "markdown",
   "metadata": {},
   "source": [
    "Then, we can convert this numpy array in tensor "
   ]
  },
  {
   "cell_type": "code",
   "execution_count": 64,
   "metadata": {},
   "outputs": [
    {
     "name": "stdout",
     "output_type": "stream",
     "text": [
      "tensor([1, 2, 3])\n"
     ]
    }
   ],
   "source": [
    "tensor = torch.from_numpy(data)\n",
    "print(tensor)"
   ]
  },
  {
   "cell_type": "markdown",
   "metadata": {},
   "source": [
    "## Reference Links\n",
    "A curated list of articles about deep-learning concepts and Pytorch\n",
    "* Official documentation for `torch.Tensor`: https://pytorch.org/docs/stable/tensors.html\n",
    "* Towards Data Science - Medium - Brendan Fortuner\n",
    "https://towardsdatascience.com/linear-algebra-cheat-sheet-for-deep-learning-cd67aba4526c\n",
    "* Scalars, Vectors Matrices and Tensors - Hadrien J - Blog\n",
    "https://hadrienj.github.io/posts/Deep-Learning-Book-Series-2.1-Scalars-Vectors-Matrices-and-Tensors/\n",
    "* Toward Data Science - Medium - Boyan Barakov\n",
    "https://towardsdatascience.com/understanding-dimensions-in-pytorch-6edf9972d3be\n",
    "* WTF IS TENSOR - KDNUGGETS - Matthew Mayo https://www.kdnuggets.com/2018/05/wtf-tensor.html"
   ]
  },
  {
   "cell_type": "markdown",
   "metadata": {},
   "source": [
    "## Helpers - Installation\n",
    "\n",
    "Some help to resolve issues with the jupyter notebook install: \n",
    "    \n",
    "Environment conflicts - ResolvePackageNotFound: it fails because the YAML includes platform-specific build constraints and because the file is transfered across platforms.\n",
    "\n",
    "In order to solve that problem, before the installation run the command:     "
   ]
  },
  {
   "cell_type": "code",
   "execution_count": null,
   "metadata": {},
   "outputs": [],
   "source": [
    "conda env export --no-builds > environment.yml"
   ]
  },
  {
   "cell_type": "markdown",
   "metadata": {},
   "source": [
    "Then"
   ]
  },
  {
   "cell_type": "code",
   "execution_count": null,
   "metadata": {},
   "outputs": [],
   "source": [
    "jovian install"
   ]
  },
  {
   "cell_type": "markdown",
   "metadata": {},
   "source": [
    "More informations:\n",
    "https://stackoverflow.com/questions/55554431/conda-fails-to-create-environment-from-yml"
   ]
  },
  {
   "cell_type": "code",
   "execution_count": 17,
   "metadata": {},
   "outputs": [],
   "source": [
    "!pip install jovian --upgrade --quiet"
   ]
  },
  {
   "cell_type": "code",
   "execution_count": 18,
   "metadata": {},
   "outputs": [],
   "source": [
    "import jovian"
   ]
  },
  {
   "cell_type": "code",
   "execution_count": null,
   "metadata": {},
   "outputs": [
    {
     "data": {
      "application/javascript": [
       "window.require && require([\"base/js/namespace\"],function(Jupyter){Jupyter.notebook.save_checkpoint()})"
      ],
      "text/plain": [
       "<IPython.core.display.Javascript object>"
      ]
     },
     "metadata": {},
     "output_type": "display_data"
    },
    {
     "name": "stdout",
     "output_type": "stream",
     "text": [
      "[jovian] Attempting to save notebook..\u001b[0m\n"
     ]
    }
   ],
   "source": [
    "jovian.commit()"
   ]
  }
 ],
 "metadata": {
  "kernelspec": {
   "display_name": "Python 3",
   "language": "python",
   "name": "python3"
  },
  "language_info": {
   "codemirror_mode": {
    "name": "ipython",
    "version": 3
   },
   "file_extension": ".py",
   "mimetype": "text/x-python",
   "name": "python",
   "nbconvert_exporter": "python",
   "pygments_lexer": "ipython3",
   "version": "3.7.6"
  }
 },
 "nbformat": 4,
 "nbformat_minor": 4
}
