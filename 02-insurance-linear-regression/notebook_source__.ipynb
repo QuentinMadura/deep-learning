{
 "cells": [
  {
   "cell_type": "markdown",
   "metadata": {
    "_cell_guid": "b1076dfc-b9ad-4769-8c92-a6c4dae69d19",
    "_uuid": "8f2839f25d086af736a60e9eeb907d3b93b6e0e5"
   },
   "source": [
    "# Insurance cost prediction using linear regression\n",
    "\n",
    "In this assignment we're going to use information like a person's age, sex, BMI, no. of children and smoking habit to predict the price of yearly medical bills. This kind of model is useful for insurance companies to determine the yearly insurance premium for a person. The dataset for this problem is taken from: https://www.kaggle.com/mirichoi0218/insurance\n",
    "\n",
    "\n",
    "We will create a model with the following steps:\n",
    "1. Download and explore the dataset\n",
    "2. Prepare the dataset for training\n",
    "3. Create a linear regression model\n",
    "4. Train the model to fit the data\n",
    "5. Make predictions using the trained model\n",
    "\n",
    "\n",
    "This assignment builds upon the concepts from the first 2 lectures. It will help to review these Jupyter notebooks:\n",
    "- PyTorch basics: https://jovian.ml/aakashns/01-pytorch-basics\n",
    "- Linear Regression: https://jovian.ml/aakashns/02-linear-regression\n",
    "- Logistic Regression: https://jovian.ml/aakashns/03-logistic-regression\n",
    "- Linear regression (minimal): https://jovian.ml/aakashns/housing-linear-minimal\n",
    "- Logistic regression (minimal): https://jovian.ml/aakashns/mnist-logistic-minimal\n",
    "\n",
    "As you go through this notebook, you will find a **???** in certain places. Your job is to replace the **???** with appropriate code or values, to ensure that the notebook runs properly end-to-end . In some cases, you'll be required to choose some hyperparameters (learning rate, batch size etc.). Try to experiment with the hypeparameters to get the lowest loss.\n"
   ]
  },
  {
   "cell_type": "code",
   "execution_count": 28,
   "metadata": {},
   "outputs": [
    {
     "name": "stdout",
     "output_type": "stream",
     "text": [
      "Collecting package metadata (current_repodata.json): done\n",
      "Solving environment: done\n",
      "\n",
      "# All requested packages already installed.\n",
      "\n",
      "Requirement already satisfied: seaborn in /Users/grimbsi/opt/anaconda3/envs/deep-learning/lib/python3.7/site-packages (0.10.1)\n",
      "Requirement already satisfied: numpy>=1.13.3 in /Users/grimbsi/opt/anaconda3/envs/deep-learning/lib/python3.7/site-packages (from seaborn) (1.18.1)\n",
      "Requirement already satisfied: matplotlib>=2.1.2 in /Users/grimbsi/opt/anaconda3/envs/deep-learning/lib/python3.7/site-packages (from seaborn) (3.2.2)\n",
      "Requirement already satisfied: pandas>=0.22.0 in /Users/grimbsi/opt/anaconda3/envs/deep-learning/lib/python3.7/site-packages (from seaborn) (1.0.5)\n",
      "Requirement already satisfied: scipy>=1.0.1 in /Users/grimbsi/opt/anaconda3/envs/deep-learning/lib/python3.7/site-packages (from seaborn) (1.4.1)\n",
      "Requirement already satisfied: cycler>=0.10 in /Users/grimbsi/opt/anaconda3/envs/deep-learning/lib/python3.7/site-packages (from matplotlib>=2.1.2->seaborn) (0.10.0)\n",
      "Requirement already satisfied: pyparsing!=2.0.4,!=2.1.2,!=2.1.6,>=2.0.1 in /Users/grimbsi/opt/anaconda3/envs/deep-learning/lib/python3.7/site-packages (from matplotlib>=2.1.2->seaborn) (2.4.7)\n",
      "Requirement already satisfied: python-dateutil>=2.1 in /Users/grimbsi/opt/anaconda3/envs/deep-learning/lib/python3.7/site-packages (from matplotlib>=2.1.2->seaborn) (2.8.1)\n",
      "Requirement already satisfied: kiwisolver>=1.0.1 in /Users/grimbsi/opt/anaconda3/envs/deep-learning/lib/python3.7/site-packages (from matplotlib>=2.1.2->seaborn) (1.2.0)\n",
      "Requirement already satisfied: pytz>=2017.2 in /Users/grimbsi/opt/anaconda3/envs/deep-learning/lib/python3.7/site-packages (from pandas>=0.22.0->seaborn) (2020.1)\n",
      "Requirement already satisfied: six in /Users/grimbsi/opt/anaconda3/envs/deep-learning/lib/python3.7/site-packages (from cycler>=0.10->matplotlib>=2.1.2->seaborn) (1.15.0)\n"
     ]
    }
   ],
   "source": [
    "# Uncomment and run the commands below if imports fail\n",
    "!conda install numpy pytorch torchvision cpuonly -c pytorch -y\n",
    "!pip install matplotlib pandas --upgrade --quiet\n",
    "!pip install jovian --upgrade --quiet\n",
    "!pip install seaborn"
   ]
  },
  {
   "cell_type": "code",
   "execution_count": null,
   "metadata": {},
   "outputs": [],
   "source": [
    "import torch\n",
    "import jovian\n",
    "import torchvision\n",
    "import torch.nn as nn\n",
    "import pandas as pd\n",
    "import numpy as np\n",
    "import seaborn as sns\n",
    "import matplotlib.pyplot as plt\n",
    "import torch.nn.functional as F\n",
    "from torchvision.datasets.utils import download_url\n",
    "from torch.utils.data import DataLoader, TensorDataset, random_split"
   ]
  },
  {
   "cell_type": "code",
   "execution_count": 30,
   "metadata": {},
   "outputs": [],
   "source": [
    "project_name='02-insurance-linear-regression' # will be used by jovian.commit"
   ]
  },
  {
   "cell_type": "markdown",
   "metadata": {},
   "source": [
    "## Step 1: Download and explore the data\n",
    "\n",
    "Let us begin by downloading the data. We'll use the `download_url` function from PyTorch to get the data as a CSV (comma-separated values) file. "
   ]
  },
  {
   "cell_type": "code",
   "execution_count": 31,
   "metadata": {
    "_cell_guid": "79c7e3d0-c299-4dcb-8224-4455121ee9b0",
    "_uuid": "d629ff2d2480ee46fbb7e2d37f6b5fab8052498a"
   },
   "outputs": [
    {
     "name": "stdout",
     "output_type": "stream",
     "text": [
      "Using downloaded and verified file: ./insurance.csv\n"
     ]
    }
   ],
   "source": [
    "DATASET_URL = \"https://hub.jovian.ml/wp-content/uploads/2020/05/insurance.csv\"\n",
    "DATA_FILENAME = \"insurance.csv\"\n",
    "download_url(DATASET_URL, '.')"
   ]
  },
  {
   "cell_type": "markdown",
   "metadata": {},
   "source": [
    "To load the dataset into memory, we'll use the `read_csv` function from the `pandas` library. The data will be loaded as a Pandas dataframe. See this short tutorial to learn more: https://data36.com/pandas-tutorial-1-basics-reading-data-files-dataframes-data-selection/"
   ]
  },
  {
   "cell_type": "code",
   "execution_count": 32,
   "metadata": {},
   "outputs": [
    {
     "data": {
      "text/html": [
       "<div>\n",
       "<style scoped>\n",
       "    .dataframe tbody tr th:only-of-type {\n",
       "        vertical-align: middle;\n",
       "    }\n",
       "\n",
       "    .dataframe tbody tr th {\n",
       "        vertical-align: top;\n",
       "    }\n",
       "\n",
       "    .dataframe thead th {\n",
       "        text-align: right;\n",
       "    }\n",
       "</style>\n",
       "<table border=\"1\" class=\"dataframe\">\n",
       "  <thead>\n",
       "    <tr style=\"text-align: right;\">\n",
       "      <th></th>\n",
       "      <th>age</th>\n",
       "      <th>sex</th>\n",
       "      <th>bmi</th>\n",
       "      <th>children</th>\n",
       "      <th>smoker</th>\n",
       "      <th>region</th>\n",
       "      <th>charges</th>\n",
       "    </tr>\n",
       "  </thead>\n",
       "  <tbody>\n",
       "    <tr>\n",
       "      <th>0</th>\n",
       "      <td>19</td>\n",
       "      <td>female</td>\n",
       "      <td>27.900</td>\n",
       "      <td>0</td>\n",
       "      <td>yes</td>\n",
       "      <td>southwest</td>\n",
       "      <td>16884.92400</td>\n",
       "    </tr>\n",
       "    <tr>\n",
       "      <th>1</th>\n",
       "      <td>18</td>\n",
       "      <td>male</td>\n",
       "      <td>33.770</td>\n",
       "      <td>1</td>\n",
       "      <td>no</td>\n",
       "      <td>southeast</td>\n",
       "      <td>1725.55230</td>\n",
       "    </tr>\n",
       "    <tr>\n",
       "      <th>2</th>\n",
       "      <td>28</td>\n",
       "      <td>male</td>\n",
       "      <td>33.000</td>\n",
       "      <td>3</td>\n",
       "      <td>no</td>\n",
       "      <td>southeast</td>\n",
       "      <td>4449.46200</td>\n",
       "    </tr>\n",
       "    <tr>\n",
       "      <th>3</th>\n",
       "      <td>33</td>\n",
       "      <td>male</td>\n",
       "      <td>22.705</td>\n",
       "      <td>0</td>\n",
       "      <td>no</td>\n",
       "      <td>northwest</td>\n",
       "      <td>21984.47061</td>\n",
       "    </tr>\n",
       "    <tr>\n",
       "      <th>4</th>\n",
       "      <td>32</td>\n",
       "      <td>male</td>\n",
       "      <td>28.880</td>\n",
       "      <td>0</td>\n",
       "      <td>no</td>\n",
       "      <td>northwest</td>\n",
       "      <td>3866.85520</td>\n",
       "    </tr>\n",
       "  </tbody>\n",
       "</table>\n",
       "</div>"
      ],
      "text/plain": [
       "   age     sex     bmi  children smoker     region      charges\n",
       "0   19  female  27.900         0    yes  southwest  16884.92400\n",
       "1   18    male  33.770         1     no  southeast   1725.55230\n",
       "2   28    male  33.000         3     no  southeast   4449.46200\n",
       "3   33    male  22.705         0     no  northwest  21984.47061\n",
       "4   32    male  28.880         0     no  northwest   3866.85520"
      ]
     },
     "execution_count": 32,
     "metadata": {},
     "output_type": "execute_result"
    }
   ],
   "source": [
    "dataframe_raw = pd.read_csv(DATA_FILENAME)\n",
    "dataframe_raw.head()"
   ]
  },
  {
   "cell_type": "markdown",
   "metadata": {},
   "source": [
    "We're going to do a slight customization of the data, so that you every participant receives a slightly different version of the dataset. Fill in your name below as a string (enter at least 5 characters)"
   ]
  },
  {
   "cell_type": "code",
   "execution_count": 33,
   "metadata": {},
   "outputs": [],
   "source": [
    "your_name = \"QuentinM\" # at least 5 characters"
   ]
  },
  {
   "cell_type": "markdown",
   "metadata": {},
   "source": [
    "The `customize_dataset` function will customize the dataset slightly using your name as a source of random numbers."
   ]
  },
  {
   "cell_type": "code",
   "execution_count": 34,
   "metadata": {},
   "outputs": [],
   "source": [
    "def customize_dataset(dataframe_raw, rand_str):\n",
    "    dataframe = dataframe_raw.copy(deep=True)\n",
    "    # drop some rows\n",
    "    dataframe = dataframe.sample(int(0.95*len(dataframe)), random_state=int(ord(rand_str[0])))\n",
    "    # scale input\n",
    "    dataframe.bmi = dataframe.bmi * ord(rand_str[1])/100.\n",
    "    # scale target\n",
    "    dataframe.charges = dataframe.charges * ord(rand_str[2])/100.\n",
    "    # drop column\n",
    "    if ord(rand_str[3]) % 2 == 1:\n",
    "        dataframe = dataframe.drop(['region'], axis=1)\n",
    "    return dataframe"
   ]
  },
  {
   "cell_type": "code",
   "execution_count": 35,
   "metadata": {},
   "outputs": [
    {
     "data": {
      "text/html": [
       "<div>\n",
       "<style scoped>\n",
       "    .dataframe tbody tr th:only-of-type {\n",
       "        vertical-align: middle;\n",
       "    }\n",
       "\n",
       "    .dataframe tbody tr th {\n",
       "        vertical-align: top;\n",
       "    }\n",
       "\n",
       "    .dataframe thead th {\n",
       "        text-align: right;\n",
       "    }\n",
       "</style>\n",
       "<table border=\"1\" class=\"dataframe\">\n",
       "  <thead>\n",
       "    <tr style=\"text-align: right;\">\n",
       "      <th></th>\n",
       "      <th>age</th>\n",
       "      <th>sex</th>\n",
       "      <th>bmi</th>\n",
       "      <th>children</th>\n",
       "      <th>smoker</th>\n",
       "      <th>region</th>\n",
       "      <th>charges</th>\n",
       "    </tr>\n",
       "  </thead>\n",
       "  <tbody>\n",
       "    <tr>\n",
       "      <th>696</th>\n",
       "      <td>53</td>\n",
       "      <td>female</td>\n",
       "      <td>37.7910</td>\n",
       "      <td>2</td>\n",
       "      <td>no</td>\n",
       "      <td>northeast</td>\n",
       "      <td>29478.347184</td>\n",
       "    </tr>\n",
       "    <tr>\n",
       "      <th>826</th>\n",
       "      <td>56</td>\n",
       "      <td>male</td>\n",
       "      <td>37.1943</td>\n",
       "      <td>2</td>\n",
       "      <td>yes</td>\n",
       "      <td>southeast</td>\n",
       "      <td>44252.004761</td>\n",
       "    </tr>\n",
       "    <tr>\n",
       "      <th>1115</th>\n",
       "      <td>55</td>\n",
       "      <td>male</td>\n",
       "      <td>38.2239</td>\n",
       "      <td>1</td>\n",
       "      <td>no</td>\n",
       "      <td>southeast</td>\n",
       "      <td>10915.561163</td>\n",
       "    </tr>\n",
       "    <tr>\n",
       "      <th>823</th>\n",
       "      <td>44</td>\n",
       "      <td>female</td>\n",
       "      <td>34.8777</td>\n",
       "      <td>2</td>\n",
       "      <td>no</td>\n",
       "      <td>southeast</td>\n",
       "      <td>8301.395939</td>\n",
       "    </tr>\n",
       "    <tr>\n",
       "      <th>1173</th>\n",
       "      <td>38</td>\n",
       "      <td>male</td>\n",
       "      <td>34.2342</td>\n",
       "      <td>2</td>\n",
       "      <td>no</td>\n",
       "      <td>northwest</td>\n",
       "      <td>6522.421834</td>\n",
       "    </tr>\n",
       "  </tbody>\n",
       "</table>\n",
       "</div>"
      ],
      "text/plain": [
       "      age     sex      bmi  children smoker     region       charges\n",
       "696    53  female  37.7910         2     no  northeast  29478.347184\n",
       "826    56    male  37.1943         2    yes  southeast  44252.004761\n",
       "1115   55    male  38.2239         1     no  southeast  10915.561163\n",
       "823    44  female  34.8777         2     no  southeast   8301.395939\n",
       "1173   38    male  34.2342         2     no  northwest   6522.421834"
      ]
     },
     "execution_count": 35,
     "metadata": {},
     "output_type": "execute_result"
    }
   ],
   "source": [
    "dataframe = customize_dataset(dataframe_raw, your_name)\n",
    "dataframe.head()"
   ]
  },
  {
   "cell_type": "markdown",
   "metadata": {},
   "source": [
    "Let us answer some basic questions about the dataset. \n",
    "\n",
    "\n",
    "**Q: How many rows does the dataset have?**"
   ]
  },
  {
   "cell_type": "code",
   "execution_count": 36,
   "metadata": {},
   "outputs": [
    {
     "name": "stdout",
     "output_type": "stream",
     "text": [
      "1271\n"
     ]
    }
   ],
   "source": [
    "# The shape attribute of pandas.DataFrame stores the number of rows and columns as a tuple (number of rows, number of columns).\n",
    "# Reference: https://note.nkmk.me/en/python-pandas-len-shape-size/\n",
    "num_rows = dataframe.shape[0]\n",
    "print(num_rows)"
   ]
  },
  {
   "cell_type": "markdown",
   "metadata": {},
   "source": [
    "**Q: How many columns doe the dataset have**"
   ]
  },
  {
   "cell_type": "code",
   "execution_count": 37,
   "metadata": {},
   "outputs": [
    {
     "name": "stdout",
     "output_type": "stream",
     "text": [
      "7\n"
     ]
    }
   ],
   "source": [
    "num_cols = dataframe.shape[1]\n",
    "print(num_cols)"
   ]
  },
  {
   "cell_type": "markdown",
   "metadata": {},
   "source": [
    "**Q: What are the column titles of the input variables?**"
   ]
  },
  {
   "cell_type": "code",
   "execution_count": 38,
   "metadata": {},
   "outputs": [
    {
     "name": "stdout",
     "output_type": "stream",
     "text": [
      "['age', 'sex', 'bmi', 'children', 'smoker', 'region']\n"
     ]
    }
   ],
   "source": [
    "excluded_cols = ['charges']\n",
    "input_cols = [e for e in dataframe.columns if e not in excluded_cols] \n",
    "print(input_cols)"
   ]
  },
  {
   "cell_type": "markdown",
   "metadata": {},
   "source": [
    "**Q: Which of the input columns are non-numeric or categorial variables ?**\n",
    "\n",
    "Hint: `sex` is one of them. List the columns that are not numbers."
   ]
  },
  {
   "cell_type": "code",
   "execution_count": 39,
   "metadata": {},
   "outputs": [],
   "source": [
    "# Select Pandas columns by dtype\n",
    "# \n",
    "categorical_cols = dataframe.select_dtypes(exclude=['int', 'float']).columns.values"
   ]
  },
  {
   "cell_type": "markdown",
   "metadata": {},
   "source": [
    "**Q: What are the column titles of output/target variable(s)?**"
   ]
  },
  {
   "cell_type": "code",
   "execution_count": 40,
   "metadata": {},
   "outputs": [
    {
     "name": "stdout",
     "output_type": "stream",
     "text": [
      "['charges']\n"
     ]
    }
   ],
   "source": [
    "output_cols = np.array(['charges'], dtype='object')\n",
    "print(output_cols)"
   ]
  },
  {
   "cell_type": "markdown",
   "metadata": {},
   "source": [
    "**Q: (Optional) What is the minimum, maximum and average value of the `charges` column? Can you show the distribution of values in a graph?**\n",
    "Use this data visualization cheatsheet for referece: https://jovian.ml/aakashns/dataviz-cheatsheet"
   ]
  },
  {
   "cell_type": "code",
   "execution_count": 41,
   "metadata": {},
   "outputs": [
    {
     "data": {
      "image/png": "[encoded data removed]",
      "text/plain": [
       "<Figure size 432x288 with 1 Axes>"
      ]
     },
     "metadata": {
      "needs_background": "light"
     },
     "output_type": "display_data"
    }
   ],
   "source": [
    "# Write your answer here\n",
    "min_charges = dataframe.charges.min() # equivalent of min(dataframe.charges)\n",
    "max_charges = dataframe.charges.max() # equivalent of max(dataframe.charges)\n",
    "avg_charges = dataframe.charges.mean()\n",
    "plt.title(\"Distribution of charges\")\n",
    "sns.distplot(dataframe.charges, kde=False);"
   ]
  },
  {
   "cell_type": "code",
   "execution_count": 42,
   "metadata": {},
   "outputs": [
    {
     "data": {
      "text/plain": [
       "<matplotlib.axes._subplots.AxesSubplot at 0x1a212b0750>"
      ]
     },
     "execution_count": 42,
     "metadata": {},
     "output_type": "execute_result"
    },
    {
     "data": {
      "image/png": "[encoded data removed]",
      "text/plain": [
       "<Figure size 432x288 with 1 Axes>"
      ]
     },
     "metadata": {
      "needs_background": "light"
     },
     "output_type": "display_data"
    }
   ],
   "source": [
    "sns.scatterplot(dataframe.age, dataframe.charges)"
   ]
  },
  {
   "cell_type": "markdown",
   "metadata": {},
   "source": [
    "Remember to commit your notebook to Jovian after every step, so that you don't lose your work."
   ]
  },
  {
   "cell_type": "code",
   "execution_count": 43,
   "metadata": {},
   "outputs": [
    {
     "data": {
      "application/javascript": [
       "window.require && require([\"base/js/namespace\"],function(Jupyter){Jupyter.notebook.save_checkpoint()})"
      ],
      "text/plain": [
       "<IPython.core.display.Javascript object>"
      ]
     },
     "metadata": {},
     "output_type": "display_data"
    },
    {
     "name": "stdout",
     "output_type": "stream",
     "text": [
      "[jovian] Attempting to save notebook..\u001b[0m\n",
      "[jovian] Updating notebook \"quentinmadura/02-insurance-linear-regression\" on https://jovian.ml/\u001b[0m\n",
      "[jovian] Uploading notebook..\u001b[0m\n",
      "[jovian] Committed successfully! https://jovian.ml/quentinmadura/02-insurance-linear-regression\u001b[0m\n"
     ]
    },
    {
     "data": {
      "text/plain": [
       "'https://jovian.ml/quentinmadura/02-insurance-linear-regression'"
      ]
     },
     "execution_count": 43,
     "metadata": {},
     "output_type": "execute_result"
    }
   ],
   "source": [
    "jovian.commit(project=project_name, environment=None)"
   ]
  },
  {
   "cell_type": "markdown",
   "metadata": {},
   "source": [
    "## Step 2: Prepare the dataset for training\n",
    "\n",
    "We need to convert the data from the Pandas dataframe into a PyTorch tensors for training. To do this, the first step is to convert it numpy arrays. If you've filled out `input_cols`, `categorial_cols` and `output_cols` correctly, this following function will perform the conversion to numpy arrays."
   ]
  },
  {
   "cell_type": "code",
   "execution_count": 44,
   "metadata": {},
   "outputs": [],
   "source": [
    "def dataframe_to_arrays(dataframe):\n",
    "    # Make a copy of the original dataframe\n",
    "    dataframe1 = dataframe.copy(deep=True)\n",
    "    # Convert non-numeric categorical columns to numbers\n",
    "    for col in categorical_cols:\n",
    "        dataframe1[col] = dataframe1[col].astype('category').cat.codes\n",
    "    # Extract input & outpts as numpy arrays\n",
    "    breakpoint\n",
    "    inputs_array = dataframe1[input_cols].to_numpy()\n",
    "    targets_array = dataframe1[output_cols].to_numpy()\n",
    "    return inputs_array, targets_array"
   ]
  },
  {
   "cell_type": "markdown",
   "metadata": {},
   "source": [
    "Read through the [Pandas documentation](https://pandas.pydata.org/pandas-docs/stable/user_guide/categorical.html) to understand how we're converting categorical variables into numbers."
   ]
  },
  {
   "cell_type": "code",
   "execution_count": 45,
   "metadata": {},
   "outputs": [],
   "source": [
    "inputs_array, targets_array = dataframe_to_arrays(dataframe)"
   ]
  },
  {
   "cell_type": "markdown",
   "metadata": {},
   "source": [
    "**Q: Convert the numpy arrays `inputs_array` and `targets_array` into PyTorch tensors. Make sure that the data type is `torch.float32`.**"
   ]
  },
  {
   "cell_type": "code",
   "execution_count": 46,
   "metadata": {},
   "outputs": [],
   "source": [
    "inputs = torch.Tensor(inputs_array)\n",
    "targets = torch.Tensor(targets_array)"
   ]
  },
  {
   "cell_type": "code",
   "execution_count": 47,
   "metadata": {},
   "outputs": [
    {
     "data": {
      "text/plain": [
       "(torch.float32, torch.float32)"
      ]
     },
     "execution_count": 47,
     "metadata": {},
     "output_type": "execute_result"
    }
   ],
   "source": [
    "inputs.dtype, targets.dtype"
   ]
  },
  {
   "cell_type": "markdown",
   "metadata": {},
   "source": [
    "Next, we need to create PyTorch datasets & data loaders for training & validation. We'll start by creating a `TensorDataset`."
   ]
  },
  {
   "cell_type": "code",
   "execution_count": 48,
   "metadata": {},
   "outputs": [],
   "source": [
    "dataset = TensorDataset(inputs, targets)"
   ]
  },
  {
   "cell_type": "markdown",
   "metadata": {},
   "source": [
    "**Q: Pick a number between `0.1` and `0.2` to determine the fraction of data that will be used for creating the validation set. Then use `random_split` to create training & validation datasets. **"
   ]
  },
  {
   "cell_type": "code",
   "execution_count": 62,
   "metadata": {},
   "outputs": [],
   "source": [
    "val_percent = 0.15\n",
    "val_size = int(num_rows * val_percent)\n",
    "train_size = num_rows - val_size\n",
    "\n",
    "train_ds, val_ds = random_split(dataset, [train_size, val_size]) "
   ]
  },
  {
   "cell_type": "markdown",
   "metadata": {},
   "source": [
    "Finally, we can create data loaders for training & validation.\n",
    "\n",
    "**Q: Pick a batch size for the data loader.**"
   ]
  },
  {
   "cell_type": "code",
   "execution_count": 61,
   "metadata": {},
   "outputs": [],
   "source": [
    "batch_size = 64"
   ]
  },
  {
   "cell_type": "code",
   "execution_count": 51,
   "metadata": {},
   "outputs": [],
   "source": [
    "train_loader = DataLoader(train_ds, batch_size, shuffle=True)\n",
    "val_loader = DataLoader(val_ds, batch_size)"
   ]
  },
  {
   "cell_type": "markdown",
   "metadata": {},
   "source": [
    "Let's look at a batch of data to verify everything is working fine so far."
   ]
  },
  {
   "cell_type": "code",
   "execution_count": 73,
   "metadata": {},
   "outputs": [
    {
     "name": "stdout",
     "output_type": "stream",
     "text": [
      "Sample outputs: tensor([[20036.9590],\n",
      "        [ 9009.7725]])\n"
     ]
    }
   ],
   "source": [
    "for xb, yb in train_loader:\n",
    "    outputs = model(xb)\n",
    "    break\n",
    "    \n",
    "print(\"Sample outputs:\", outputs[:2].data )"
   ]
  },
  {
   "cell_type": "markdown",
   "metadata": {},
   "source": [
    "Let's save our work by committing to Jovian."
   ]
  },
  {
   "cell_type": "code",
   "execution_count": null,
   "metadata": {},
   "outputs": [],
   "source": [
    "jovian.commit(project=project_name, environment=None)"
   ]
  },
  {
   "cell_type": "markdown",
   "metadata": {},
   "source": [
    "## Step 3: Create a Linear Regression Model\n",
    "\n",
    "Our model itself is a fairly straightforward linear regression (we'll build more complex models in the next assignment). \n"
   ]
  },
  {
   "cell_type": "code",
   "execution_count": 53,
   "metadata": {},
   "outputs": [],
   "source": [
    "input_size = len(input_cols)\n",
    "output_size = len(output_cols)"
   ]
  },
  {
   "cell_type": "markdown",
   "metadata": {},
   "source": [
    "**Q: Complete the class definition below by filling out the constructor (`__init__`), `forward`, `training_step` and `validation_step` methods.**\n",
    "\n",
    "Hint: Think carefully about picking a good loss fuction (it's not cross entropy). Maybe try 2-3 of them and see which one works best. See https://pytorch.org/docs/stable/nn.functional.html#loss-functions"
   ]
  },
  {
   "cell_type": "code",
   "execution_count": 72,
   "metadata": {},
   "outputs": [],
   "source": [
    "class InsuranceModel(nn.Module):\n",
    "    def __init__(self):\n",
    "        super().__init__()\n",
    "        self.linear =  nn.Linear(input_size, output_size) # fill this (hint: use input_size & output_size defined above)\n",
    "        \n",
    "    def forward(self, xb):\n",
    "        out = self.linear(xb)                          # fill this\n",
    "        return out\n",
    "    \n",
    "    def training_step(self, batch):\n",
    "        inputs, targets = batch \n",
    "        # Generate predictions\n",
    "        out = self(inputs)          \n",
    "        # Calcuate loss\n",
    "        loss = F.smooth_l1_loss(out, targets)                          # fill this\n",
    "        return loss\n",
    "    \n",
    "    def validation_step(self, batch):\n",
    "        inputs, targets = batch\n",
    "        # Generate predictions\n",
    "        out = self(inputs)\n",
    "        # Calculate loss\n",
    "        loss = F.smooth_l1_loss(out, targets)                           # fill this    \n",
    "        return {'val_loss': loss.detach()}\n",
    "        \n",
    "    def validation_epoch_end(self, outputs):\n",
    "        batch_losses = [x['val_loss'] for x in outputs]\n",
    "        epoch_loss = torch.stack(batch_losses).mean()   # Combine losses\n",
    "        return {'val_loss': epoch_loss.item()}\n",
    "    \n",
    "    def epoch_end(self, epoch, result, num_epochs):\n",
    "        # Print result every 20th epoch\n",
    "        if (epoch+1) % 20 == 0 or epoch == num_epochs-1:\n",
    "            print(\"Epoch [{}], val_loss: {:.4f}\".format(epoch+1, result['val_loss']))"
   ]
  },
  {
   "cell_type": "markdown",
   "metadata": {},
   "source": [
    "Let us create a model using the `InsuranceModel` class. You may need to come back later and re-run the next cell to reinitialize the model, in case the loss becomes `nan` or `infinity`."
   ]
  },
  {
   "cell_type": "code",
   "execution_count": 66,
   "metadata": {},
   "outputs": [],
   "source": [
    "model = InsuranceModel()"
   ]
  },
  {
   "cell_type": "markdown",
   "metadata": {},
   "source": [
    "Let's check out the weights and biases of the model using `model.parameters`."
   ]
  },
  {
   "cell_type": "code",
   "execution_count": 67,
   "metadata": {},
   "outputs": [
    {
     "data": {
      "text/plain": [
       "[Parameter containing:\n",
       " tensor([[-0.1724,  0.1306, -0.3077, -0.0427,  0.3331, -0.2720]],\n",
       "        requires_grad=True),\n",
       " Parameter containing:\n",
       " tensor([0.0604], requires_grad=True)]"
      ]
     },
     "execution_count": 67,
     "metadata": {},
     "output_type": "execute_result"
    }
   ],
   "source": [
    "list(model.parameters())"
   ]
  },
  {
   "cell_type": "markdown",
   "metadata": {},
   "source": [
    "One final commit before we train the model."
   ]
  },
  {
   "cell_type": "code",
   "execution_count": 68,
   "metadata": {},
   "outputs": [
    {
     "data": {
      "application/javascript": [
       "window.require && require([\"base/js/namespace\"],function(Jupyter){Jupyter.notebook.save_checkpoint()})"
      ],
      "text/plain": [
       "<IPython.core.display.Javascript object>"
      ]
     },
     "metadata": {},
     "output_type": "display_data"
    },
    {
     "name": "stdout",
     "output_type": "stream",
     "text": [
      "[jovian] Attempting to save notebook..\u001b[0m\n",
      "[jovian] Updating notebook \"quentinmadura/02-insurance-linear-regression\" on https://jovian.ml/\u001b[0m\n",
      "[jovian] Uploading notebook..\u001b[0m\n",
      "[jovian] Committed successfully! https://jovian.ml/quentinmadura/02-insurance-linear-regression\u001b[0m\n"
     ]
    },
    {
     "data": {
      "text/plain": [
       "'https://jovian.ml/quentinmadura/02-insurance-linear-regression'"
      ]
     },
     "execution_count": 68,
     "metadata": {},
     "output_type": "execute_result"
    }
   ],
   "source": [
    "jovian.commit(project=project_name, environment=None)"
   ]
  },
  {
   "cell_type": "markdown",
   "metadata": {},
   "source": [
    "## Step 4: Train the model to fit the data\n",
    "\n",
    "To train our model, we'll use the same `fit` function explained in the lecture. That's the benefit of defining a generic training loop - you can use it for any problem."
   ]
  },
  {
   "cell_type": "code",
   "execution_count": 69,
   "metadata": {},
   "outputs": [],
   "source": [
    "def evaluate(model, val_loader):\n",
    "    outputs = [model.validation_step(batch) for batch in val_loader]\n",
    "    return model.validation_epoch_end(outputs)\n",
    "\n",
    "def fit(epochs, lr, model, train_loader, val_loader, opt_func=torch.optim.SGD):\n",
    "    history = []\n",
    "    optimizer = opt_func(model.parameters(), lr)\n",
    "    for epoch in range(epochs):\n",
    "        # Training Phase \n",
    "        for batch in train_loader:\n",
    "            loss = model.training_step(batch)\n",
    "            loss.backward()\n",
    "            optimizer.step()\n",
    "            optimizer.zero_grad()\n",
    "        # Validation phase\n",
    "        result = evaluate(model, val_loader)\n",
    "        model.epoch_end(epoch, result, epochs)\n",
    "        history.append(result)\n",
    "    return history"
   ]
  },
  {
   "cell_type": "markdown",
   "metadata": {},
   "source": [
    "**Q: Use the `evaluate` function to calculate the loss on the validation set before training.**"
   ]
  },
  {
   "cell_type": "code",
   "execution_count": 70,
   "metadata": {},
   "outputs": [
    {
     "name": "stdout",
     "output_type": "stream",
     "text": [
      "{'val_loss': 13332.927734375}\n"
     ]
    }
   ],
   "source": [
    "result = evaluate(model, val_loader)\n",
    "print(result)"
   ]
  },
  {
   "cell_type": "markdown",
   "metadata": {},
   "source": [
    "\n",
    "We are now ready to train the model. You may need to run the training loop many times, for different number of epochs and with different learning rates, to get a good result. Also, if your loss becomes too large (or `nan`), you may have to re-initialize the model by running the cell `model = InsuranceModel()`. Experiment with this for a while, and try to get to as low a loss as possible."
   ]
  },
  {
   "cell_type": "markdown",
   "metadata": {},
   "source": [
    "**Q: Train the model 4-5 times with different learning rates & for different number of epochs.**\n",
    "\n",
    "Hint: Vary learning rates by orders of 10 (e.g. `1e-2`, `1e-3`, `1e-4`, `1e-5`, `1e-6`) to figure out what works."
   ]
  },
  {
   "cell_type": "code",
   "execution_count": 71,
   "metadata": {},
   "outputs": [
    {
     "name": "stdout",
     "output_type": "stream",
     "text": [
      "Epoch [20], val_loss: 6611.7583\n",
      "Epoch [40], val_loss: 6610.1997\n",
      "Epoch [60], val_loss: 6993.9463\n",
      "Epoch [80], val_loss: 6422.3066\n",
      "Epoch [100], val_loss: 7025.5249\n",
      "Epoch [120], val_loss: 6576.8940\n",
      "Epoch [140], val_loss: 6367.2471\n",
      "Epoch [160], val_loss: 6421.1416\n",
      "Epoch [180], val_loss: 6541.3701\n",
      "Epoch [200], val_loss: 6256.7041\n",
      "Epoch [220], val_loss: 6229.4106\n",
      "Epoch [240], val_loss: 6185.9800\n",
      "Epoch [260], val_loss: 6291.1875\n",
      "Epoch [280], val_loss: 6116.9263\n",
      "Epoch [300], val_loss: 6152.9590\n",
      "Epoch [320], val_loss: 6109.1582\n",
      "Epoch [340], val_loss: 6293.1016\n",
      "Epoch [360], val_loss: 6005.3193\n",
      "Epoch [380], val_loss: 6175.8896\n",
      "Epoch [400], val_loss: 5977.1411\n",
      "Epoch [420], val_loss: 5942.3101\n",
      "Epoch [440], val_loss: 5904.5640\n",
      "Epoch [460], val_loss: 5903.7559\n",
      "Epoch [480], val_loss: 5925.1533\n",
      "Epoch [500], val_loss: 6061.4521\n",
      "Epoch [520], val_loss: 6179.6475\n",
      "Epoch [540], val_loss: 5791.0503\n",
      "Epoch [560], val_loss: 5884.7632\n",
      "Epoch [580], val_loss: 5695.9453\n",
      "Epoch [600], val_loss: 5737.3677\n",
      "Epoch [620], val_loss: 5700.5532\n",
      "Epoch [640], val_loss: 5670.7651\n",
      "Epoch [660], val_loss: 5579.5928\n",
      "Epoch [680], val_loss: 5798.7539\n",
      "Epoch [700], val_loss: 5615.2100\n",
      "Epoch [720], val_loss: 5783.2104\n",
      "Epoch [740], val_loss: 5938.1143\n",
      "Epoch [760], val_loss: 5447.4639\n",
      "Epoch [780], val_loss: 5481.2573\n",
      "Epoch [800], val_loss: 5506.4668\n",
      "Epoch [820], val_loss: 5450.1172\n",
      "Epoch [840], val_loss: 5356.1865\n",
      "Epoch [860], val_loss: 5630.0088\n",
      "Epoch [880], val_loss: 5275.6523\n",
      "Epoch [900], val_loss: 5317.9790\n",
      "Epoch [920], val_loss: 5220.1021\n",
      "Epoch [940], val_loss: 5214.8188\n",
      "Epoch [960], val_loss: 5379.4092\n",
      "Epoch [980], val_loss: 5298.3491\n",
      "Epoch [1000], val_loss: 5118.3765\n",
      "Epoch [1020], val_loss: 5148.1270\n",
      "Epoch [1040], val_loss: 5164.2681\n",
      "Epoch [1060], val_loss: 5423.8755\n",
      "Epoch [1080], val_loss: 5060.3457\n",
      "Epoch [1100], val_loss: 4984.4033\n",
      "Epoch [1120], val_loss: 4952.3174\n",
      "Epoch [1140], val_loss: 4971.5859\n",
      "Epoch [1160], val_loss: 4897.8115\n",
      "Epoch [1180], val_loss: 4889.2573\n",
      "Epoch [1200], val_loss: 4882.1577\n",
      "Epoch [1220], val_loss: 4943.4141\n",
      "Epoch [1240], val_loss: 4814.9902\n",
      "Epoch [1260], val_loss: 4777.5405\n",
      "Epoch [1280], val_loss: 4765.3657\n",
      "Epoch [1300], val_loss: 4856.1377\n",
      "Epoch [1320], val_loss: 4737.9551\n",
      "Epoch [1340], val_loss: 4708.3662\n",
      "Epoch [1360], val_loss: 4683.3330\n",
      "Epoch [1380], val_loss: 4604.4312\n",
      "Epoch [1400], val_loss: 4647.7485\n",
      "Epoch [1420], val_loss: 4771.0957\n",
      "Epoch [1440], val_loss: 4680.8306\n",
      "Epoch [1460], val_loss: 4776.1909\n",
      "Epoch [1480], val_loss: 5049.3223\n",
      "Epoch [1500], val_loss: 4631.5723\n",
      "Epoch [1520], val_loss: 4651.0811\n",
      "Epoch [1540], val_loss: 5029.6299\n",
      "Epoch [1560], val_loss: 4598.8003\n",
      "Epoch [1580], val_loss: 4536.3779\n",
      "Epoch [1600], val_loss: 4323.0410\n",
      "Epoch [1620], val_loss: 4328.1470\n",
      "Epoch [1640], val_loss: 4629.5806\n",
      "Epoch [1660], val_loss: 4953.5215\n",
      "Epoch [1680], val_loss: 4228.7065\n",
      "Epoch [1700], val_loss: 4352.6924\n",
      "Epoch [1720], val_loss: 4364.0820\n",
      "Epoch [1740], val_loss: 4162.9775\n",
      "Epoch [1760], val_loss: 4138.4297\n",
      "Epoch [1780], val_loss: 4537.6045\n",
      "Epoch [1800], val_loss: 4219.9102\n",
      "Epoch [1820], val_loss: 4228.5029\n",
      "Epoch [1840], val_loss: 4234.9009\n",
      "Epoch [1860], val_loss: 4100.9170\n",
      "Epoch [1880], val_loss: 4032.4116\n",
      "Epoch [1900], val_loss: 4015.5957\n",
      "Epoch [1920], val_loss: 4114.6528\n",
      "Epoch [1940], val_loss: 4400.0024\n",
      "Epoch [1960], val_loss: 4339.5146\n",
      "Epoch [1980], val_loss: 4067.9111\n",
      "Epoch [2000], val_loss: 4693.2441\n",
      "Epoch [2020], val_loss: 4213.2773\n",
      "Epoch [2040], val_loss: 4319.1411\n",
      "Epoch [2060], val_loss: 5002.5420\n",
      "Epoch [2080], val_loss: 3887.7241\n",
      "Epoch [2100], val_loss: 4148.3003\n",
      "Epoch [2120], val_loss: 4528.4092\n",
      "Epoch [2140], val_loss: 3870.3711\n",
      "Epoch [2160], val_loss: 3835.5271\n",
      "Epoch [2180], val_loss: 4516.6201\n",
      "Epoch [2200], val_loss: 3930.0630\n",
      "Epoch [2220], val_loss: 4026.4902\n",
      "Epoch [2240], val_loss: 4026.8335\n",
      "Epoch [2260], val_loss: 3998.5371\n",
      "Epoch [2280], val_loss: 4241.9404\n",
      "Epoch [2300], val_loss: 4099.3853\n",
      "Epoch [2320], val_loss: 3817.9705\n",
      "Epoch [2340], val_loss: 3928.2412\n",
      "Epoch [2360], val_loss: 4323.8804\n",
      "Epoch [2380], val_loss: 3739.9937\n",
      "Epoch [2400], val_loss: 3736.2039\n",
      "Epoch [2420], val_loss: 4473.9678\n",
      "Epoch [2440], val_loss: 3960.1216\n",
      "Epoch [2460], val_loss: 3706.8972\n",
      "Epoch [2480], val_loss: 3704.9302\n",
      "Epoch [2500], val_loss: 3848.2605\n",
      "Epoch [2520], val_loss: 4487.4482\n",
      "Epoch [2540], val_loss: 4103.0029\n",
      "Epoch [2560], val_loss: 3730.6484\n",
      "Epoch [2580], val_loss: 4128.1045\n",
      "Epoch [2600], val_loss: 4002.1626\n",
      "Epoch [2620], val_loss: 3682.3857\n",
      "Epoch [2640], val_loss: 3788.8362\n",
      "Epoch [2660], val_loss: 3941.9331\n",
      "Epoch [2680], val_loss: 3846.8555\n",
      "Epoch [2700], val_loss: 4283.5737\n",
      "Epoch [2720], val_loss: 4041.2302\n",
      "Epoch [2740], val_loss: 3976.6885\n",
      "Epoch [2760], val_loss: 4621.8237\n",
      "Epoch [2780], val_loss: 3646.8015\n",
      "Epoch [2800], val_loss: 3665.6514\n",
      "Epoch [2820], val_loss: 3806.8215\n",
      "Epoch [2840], val_loss: 3782.5703\n",
      "Epoch [2860], val_loss: 4526.5200\n",
      "Epoch [2880], val_loss: 3632.8552\n",
      "Epoch [2900], val_loss: 4457.8838\n",
      "Epoch [2920], val_loss: 3638.9199\n",
      "Epoch [2940], val_loss: 3642.2800\n",
      "Epoch [2960], val_loss: 3631.9102\n",
      "Epoch [2980], val_loss: 3825.2629\n",
      "Epoch [3000], val_loss: 3635.6895\n",
      "Epoch [3020], val_loss: 3694.9988\n",
      "Epoch [3040], val_loss: 3819.7041\n",
      "Epoch [3060], val_loss: 4134.6880\n",
      "Epoch [3080], val_loss: 3624.3135\n",
      "Epoch [3100], val_loss: 3713.1631\n",
      "Epoch [3120], val_loss: 3840.8076\n",
      "Epoch [3140], val_loss: 3746.7104\n",
      "Epoch [3160], val_loss: 3610.0010\n",
      "Epoch [3180], val_loss: 3746.7595\n",
      "Epoch [3200], val_loss: 4028.2224\n",
      "Epoch [3220], val_loss: 3624.0747\n",
      "Epoch [3240], val_loss: 4194.9727\n",
      "Epoch [3260], val_loss: 3676.3701\n",
      "Epoch [3280], val_loss: 3601.6201\n",
      "Epoch [3300], val_loss: 3793.9578\n",
      "Epoch [3320], val_loss: 3768.0332\n",
      "Epoch [3340], val_loss: 4141.9829\n",
      "Epoch [3360], val_loss: 3732.7832\n",
      "Epoch [3380], val_loss: 3605.6113\n",
      "Epoch [3400], val_loss: 3722.8271\n",
      "Epoch [3420], val_loss: 3977.1008\n",
      "Epoch [3440], val_loss: 3968.4062\n",
      "Epoch [3460], val_loss: 3919.7029\n",
      "Epoch [3480], val_loss: 3800.9512\n",
      "Epoch [3500], val_loss: 4141.5400\n",
      "Epoch [3520], val_loss: 3625.9443\n",
      "Epoch [3540], val_loss: 3866.4028\n",
      "Epoch [3560], val_loss: 4499.6968\n",
      "Epoch [3580], val_loss: 3818.8149\n",
      "Epoch [3600], val_loss: 4376.8301\n",
      "Epoch [3620], val_loss: 3656.0261\n",
      "Epoch [3640], val_loss: 3675.2581\n",
      "Epoch [3660], val_loss: 3644.1284\n",
      "Epoch [3680], val_loss: 3593.3652\n",
      "Epoch [3700], val_loss: 3603.8267\n",
      "Epoch [3720], val_loss: 3629.5327\n",
      "Epoch [3740], val_loss: 3606.9722\n",
      "Epoch [3760], val_loss: 3633.7456\n",
      "Epoch [3780], val_loss: 4474.3965\n",
      "Epoch [3800], val_loss: 3837.3076\n",
      "Epoch [3820], val_loss: 3845.4604\n",
      "Epoch [3840], val_loss: 3650.4028\n",
      "Epoch [3860], val_loss: 3588.9390\n",
      "Epoch [3880], val_loss: 3604.9863\n",
      "Epoch [3900], val_loss: 3623.4604\n",
      "Epoch [3920], val_loss: 3692.2271\n",
      "Epoch [3940], val_loss: 4068.4670\n",
      "Epoch [3960], val_loss: 4235.3423\n",
      "Epoch [3980], val_loss: 3697.3596\n",
      "Epoch [4000], val_loss: 4093.0645\n",
      "Epoch [4020], val_loss: 3614.3696\n",
      "Epoch [4040], val_loss: 4031.5437\n",
      "Epoch [4060], val_loss: 3591.7139\n",
      "Epoch [4080], val_loss: 3663.5596\n",
      "Epoch [4100], val_loss: 3631.8711\n",
      "Epoch [4120], val_loss: 4160.2534\n",
      "Epoch [4140], val_loss: 3581.9741\n",
      "Epoch [4160], val_loss: 3607.5703\n",
      "Epoch [4180], val_loss: 4317.9028\n",
      "Epoch [4200], val_loss: 3784.8872\n",
      "Epoch [4220], val_loss: 3609.7944\n",
      "Epoch [4240], val_loss: 3592.7739\n",
      "Epoch [4260], val_loss: 3600.5957\n",
      "Epoch [4280], val_loss: 3833.4414\n",
      "Epoch [4300], val_loss: 3745.8169\n",
      "Epoch [4320], val_loss: 3646.1052\n",
      "Epoch [4340], val_loss: 3868.7041\n",
      "Epoch [4360], val_loss: 3643.9158\n",
      "Epoch [4380], val_loss: 3585.6855\n",
      "Epoch [4400], val_loss: 3560.2830\n",
      "Epoch [4420], val_loss: 3593.1838\n",
      "Epoch [4440], val_loss: 3578.2549\n",
      "Epoch [4460], val_loss: 4052.4045\n",
      "Epoch [4480], val_loss: 3595.6150\n",
      "Epoch [4500], val_loss: 3768.4673\n",
      "Epoch [4520], val_loss: 3598.1196\n",
      "Epoch [4540], val_loss: 3884.9551\n",
      "Epoch [4560], val_loss: 4067.4438\n",
      "Epoch [4580], val_loss: 3675.2124\n",
      "Epoch [4600], val_loss: 3786.6646\n",
      "Epoch [4620], val_loss: 3995.5107\n",
      "Epoch [4640], val_loss: 4270.0156\n",
      "Epoch [4660], val_loss: 3612.1272\n",
      "Epoch [4680], val_loss: 4072.1890\n",
      "Epoch [4700], val_loss: 3786.7307\n",
      "Epoch [4720], val_loss: 3583.8865\n",
      "Epoch [4740], val_loss: 3654.3613\n",
      "Epoch [4760], val_loss: 4047.3457\n",
      "Epoch [4780], val_loss: 4266.3262\n",
      "Epoch [4800], val_loss: 3542.5298\n",
      "Epoch [4820], val_loss: 3578.3455\n",
      "Epoch [4840], val_loss: 3842.0066\n",
      "Epoch [4860], val_loss: 3602.6318\n"
     ]
    },
    {
     "name": "stdout",
     "output_type": "stream",
     "text": [
      "Epoch [4880], val_loss: 3664.9651\n",
      "Epoch [4900], val_loss: 3674.7029\n",
      "Epoch [4920], val_loss: 3652.4290\n",
      "Epoch [4940], val_loss: 3590.6880\n",
      "Epoch [4960], val_loss: 3576.8396\n",
      "Epoch [4980], val_loss: 3905.8354\n",
      "Epoch [5000], val_loss: 3707.6868\n"
     ]
    }
   ],
   "source": [
    "epochs = 5000\n",
    "lr = 1\n",
    "history1 = fit(epochs, lr, model, train_loader, val_loader)"
   ]
  },
  {
   "cell_type": "code",
   "execution_count": 64,
   "metadata": {},
   "outputs": [
    {
     "name": "stdout",
     "output_type": "stream",
     "text": [
      "Epoch [20], val_loss: 3422.6936\n",
      "Epoch [40], val_loss: 3420.6851\n",
      "Epoch [60], val_loss: 3604.6326\n",
      "Epoch [80], val_loss: 3483.4490\n",
      "Epoch [100], val_loss: 3426.0212\n",
      "Epoch [120], val_loss: 3435.9373\n",
      "Epoch [140], val_loss: 3464.6121\n",
      "Epoch [160], val_loss: 3449.5752\n",
      "Epoch [180], val_loss: 3467.5322\n",
      "Epoch [200], val_loss: 4031.0620\n",
      "Epoch [220], val_loss: 3438.4590\n",
      "Epoch [240], val_loss: 3695.8203\n",
      "Epoch [260], val_loss: 3448.1011\n",
      "Epoch [280], val_loss: 3618.5239\n",
      "Epoch [300], val_loss: 4243.0820\n",
      "Epoch [320], val_loss: 3475.5674\n",
      "Epoch [340], val_loss: 3649.7043\n",
      "Epoch [360], val_loss: 3732.7175\n",
      "Epoch [380], val_loss: 3736.9658\n",
      "Epoch [400], val_loss: 3449.9702\n",
      "Epoch [420], val_loss: 3559.1646\n",
      "Epoch [440], val_loss: 3893.5051\n",
      "Epoch [460], val_loss: 3819.4238\n",
      "Epoch [480], val_loss: 3637.7668\n",
      "Epoch [500], val_loss: 3426.8723\n",
      "Epoch [520], val_loss: 3713.3149\n",
      "Epoch [540], val_loss: 3880.9060\n",
      "Epoch [560], val_loss: 3476.6936\n",
      "Epoch [580], val_loss: 3435.3213\n",
      "Epoch [600], val_loss: 3407.9536\n",
      "Epoch [620], val_loss: 3938.8840\n",
      "Epoch [640], val_loss: 3471.8740\n",
      "Epoch [660], val_loss: 3474.7639\n",
      "Epoch [680], val_loss: 3435.1228\n",
      "Epoch [700], val_loss: 3492.5771\n",
      "Epoch [720], val_loss: 3418.4827\n",
      "Epoch [740], val_loss: 3952.0139\n",
      "Epoch [760], val_loss: 4077.6558\n",
      "Epoch [780], val_loss: 3637.2349\n",
      "Epoch [800], val_loss: 3891.4600\n",
      "Epoch [820], val_loss: 3454.9961\n",
      "Epoch [840], val_loss: 3692.8054\n",
      "Epoch [860], val_loss: 3457.9854\n",
      "Epoch [880], val_loss: 4639.2422\n",
      "Epoch [900], val_loss: 3925.6160\n",
      "Epoch [920], val_loss: 3829.6733\n",
      "Epoch [940], val_loss: 3563.9001\n",
      "Epoch [960], val_loss: 3432.2322\n",
      "Epoch [980], val_loss: 3638.1770\n",
      "Epoch [1000], val_loss: 3643.0718\n",
      "Epoch [1020], val_loss: 3907.8428\n",
      "Epoch [1040], val_loss: 3718.3777\n",
      "Epoch [1060], val_loss: 3594.7251\n",
      "Epoch [1080], val_loss: 3807.5396\n",
      "Epoch [1100], val_loss: 3542.0308\n",
      "Epoch [1120], val_loss: 3665.7476\n",
      "Epoch [1140], val_loss: 3395.9421\n",
      "Epoch [1160], val_loss: 3407.1660\n",
      "Epoch [1180], val_loss: 3531.6575\n",
      "Epoch [1200], val_loss: 3942.8230\n",
      "Epoch [1220], val_loss: 3400.2832\n",
      "Epoch [1240], val_loss: 3635.2891\n",
      "Epoch [1260], val_loss: 3733.2988\n",
      "Epoch [1280], val_loss: 3591.8228\n",
      "Epoch [1300], val_loss: 3397.2739\n",
      "Epoch [1320], val_loss: 4261.0225\n",
      "Epoch [1340], val_loss: 3407.4155\n",
      "Epoch [1360], val_loss: 3765.6851\n",
      "Epoch [1380], val_loss: 3448.0483\n",
      "Epoch [1400], val_loss: 4772.1050\n",
      "Epoch [1420], val_loss: 3430.1086\n",
      "Epoch [1440], val_loss: 3678.2549\n",
      "Epoch [1460], val_loss: 3987.7761\n",
      "Epoch [1480], val_loss: 3452.0183\n",
      "Epoch [1500], val_loss: 3748.2808\n",
      "Epoch [1520], val_loss: 3594.0261\n",
      "Epoch [1540], val_loss: 3598.0276\n",
      "Epoch [1560], val_loss: 4116.8271\n",
      "Epoch [1580], val_loss: 3413.2644\n",
      "Epoch [1600], val_loss: 3402.2249\n",
      "Epoch [1620], val_loss: 3526.1309\n",
      "Epoch [1640], val_loss: 3390.1028\n",
      "Epoch [1660], val_loss: 3500.2437\n",
      "Epoch [1680], val_loss: 3671.4634\n",
      "Epoch [1700], val_loss: 3857.4692\n",
      "Epoch [1720], val_loss: 3503.0759\n",
      "Epoch [1740], val_loss: 3469.0442\n",
      "Epoch [1760], val_loss: 3936.8481\n",
      "Epoch [1780], val_loss: 3426.4709\n",
      "Epoch [1800], val_loss: 4159.9951\n",
      "Epoch [1820], val_loss: 3417.3066\n",
      "Epoch [1840], val_loss: 4016.5222\n",
      "Epoch [1860], val_loss: 3527.4233\n",
      "Epoch [1880], val_loss: 3418.4875\n",
      "Epoch [1900], val_loss: 3529.0422\n",
      "Epoch [1920], val_loss: 3814.2795\n",
      "Epoch [1940], val_loss: 3416.5171\n",
      "Epoch [1960], val_loss: 3380.0918\n",
      "Epoch [1980], val_loss: 4057.8030\n",
      "Epoch [2000], val_loss: 3410.4146\n",
      "Epoch [2020], val_loss: 3391.8267\n",
      "Epoch [2040], val_loss: 3667.5083\n",
      "Epoch [2060], val_loss: 3435.4121\n",
      "Epoch [2080], val_loss: 3636.5740\n",
      "Epoch [2100], val_loss: 3503.1589\n",
      "Epoch [2120], val_loss: 4222.0132\n",
      "Epoch [2140], val_loss: 3764.6870\n",
      "Epoch [2160], val_loss: 3554.0623\n",
      "Epoch [2180], val_loss: 3869.2007\n",
      "Epoch [2200], val_loss: 3375.7358\n",
      "Epoch [2220], val_loss: 3419.0537\n",
      "Epoch [2240], val_loss: 3839.4175\n",
      "Epoch [2260], val_loss: 4002.4678\n",
      "Epoch [2280], val_loss: 3385.1152\n",
      "Epoch [2300], val_loss: 3555.7610\n",
      "Epoch [2320], val_loss: 3377.0146\n",
      "Epoch [2340], val_loss: 3687.4646\n",
      "Epoch [2360], val_loss: 3413.6157\n",
      "Epoch [2380], val_loss: 3498.6445\n",
      "Epoch [2400], val_loss: 3430.9158\n",
      "Epoch [2420], val_loss: 3800.9634\n",
      "Epoch [2440], val_loss: 3663.2688\n",
      "Epoch [2460], val_loss: 3395.1226\n",
      "Epoch [2480], val_loss: 4447.9507\n",
      "Epoch [2500], val_loss: 4307.8535\n",
      "Epoch [2520], val_loss: 3375.5239\n",
      "Epoch [2540], val_loss: 3701.8525\n",
      "Epoch [2560], val_loss: 3843.1316\n",
      "Epoch [2580], val_loss: 3629.3818\n",
      "Epoch [2600], val_loss: 3462.0347\n",
      "Epoch [2620], val_loss: 3392.7158\n",
      "Epoch [2640], val_loss: 3899.3938\n",
      "Epoch [2660], val_loss: 3434.2678\n",
      "Epoch [2680], val_loss: 3500.1919\n",
      "Epoch [2700], val_loss: 3776.4226\n",
      "Epoch [2720], val_loss: 3368.0396\n",
      "Epoch [2740], val_loss: 3583.6238\n",
      "Epoch [2760], val_loss: 3368.5498\n",
      "Epoch [2780], val_loss: 3356.5696\n",
      "Epoch [2800], val_loss: 3362.2290\n",
      "Epoch [2820], val_loss: 3452.6692\n",
      "Epoch [2840], val_loss: 3390.1909\n",
      "Epoch [2860], val_loss: 4112.4043\n",
      "Epoch [2880], val_loss: 3559.0261\n",
      "Epoch [2900], val_loss: 3450.0715\n",
      "Epoch [2920], val_loss: 3373.1282\n",
      "Epoch [2940], val_loss: 4416.3359\n",
      "Epoch [2960], val_loss: 3428.4785\n",
      "Epoch [2980], val_loss: 3443.5637\n",
      "Epoch [3000], val_loss: 3630.7019\n",
      "Epoch [3020], val_loss: 3435.6858\n",
      "Epoch [3040], val_loss: 3352.0825\n",
      "Epoch [3060], val_loss: 3351.8281\n",
      "Epoch [3080], val_loss: 3477.3088\n",
      "Epoch [3100], val_loss: 4004.1699\n",
      "Epoch [3120], val_loss: 3381.0371\n",
      "Epoch [3140], val_loss: 3352.5991\n",
      "Epoch [3160], val_loss: 3548.9058\n",
      "Epoch [3180], val_loss: 3609.0940\n",
      "Epoch [3200], val_loss: 3361.9490\n",
      "Epoch [3220], val_loss: 3424.8296\n",
      "Epoch [3240], val_loss: 3571.7043\n",
      "Epoch [3260], val_loss: 3622.7388\n",
      "Epoch [3280], val_loss: 3669.1494\n",
      "Epoch [3300], val_loss: 3493.0156\n",
      "Epoch [3320], val_loss: 3732.3716\n",
      "Epoch [3340], val_loss: 3363.3252\n",
      "Epoch [3360], val_loss: 4301.9604\n",
      "Epoch [3380], val_loss: 4383.1743\n",
      "Epoch [3400], val_loss: 3496.6501\n",
      "Epoch [3420], val_loss: 3386.9722\n",
      "Epoch [3440], val_loss: 3350.8015\n",
      "Epoch [3460], val_loss: 3446.6682\n",
      "Epoch [3480], val_loss: 3416.3181\n",
      "Epoch [3500], val_loss: 3412.8135\n",
      "Epoch [3520], val_loss: 4147.4106\n",
      "Epoch [3540], val_loss: 3617.0681\n",
      "Epoch [3560], val_loss: 3434.1448\n",
      "Epoch [3580], val_loss: 3859.9360\n",
      "Epoch [3600], val_loss: 3395.4141\n",
      "Epoch [3620], val_loss: 4356.8677\n",
      "Epoch [3640], val_loss: 4261.4355\n",
      "Epoch [3660], val_loss: 3624.8926\n",
      "Epoch [3680], val_loss: 3356.7239\n",
      "Epoch [3700], val_loss: 3420.6951\n",
      "Epoch [3720], val_loss: 3366.9302\n",
      "Epoch [3740], val_loss: 3460.1577\n",
      "Epoch [3760], val_loss: 4046.8120\n",
      "Epoch [3780], val_loss: 3471.5950\n",
      "Epoch [3800], val_loss: 3421.2339\n",
      "Epoch [3820], val_loss: 4280.8208\n",
      "Epoch [3840], val_loss: 3601.9749\n",
      "Epoch [3860], val_loss: 3348.1245\n",
      "Epoch [3880], val_loss: 3343.7410\n",
      "Epoch [3900], val_loss: 3389.1580\n",
      "Epoch [3920], val_loss: 3375.4373\n",
      "Epoch [3940], val_loss: 3503.8142\n",
      "Epoch [3960], val_loss: 3557.7322\n",
      "Epoch [3980], val_loss: 4062.1548\n",
      "Epoch [4000], val_loss: 3342.0295\n",
      "Epoch [4020], val_loss: 3332.7515\n",
      "Epoch [4040], val_loss: 3677.0149\n",
      "Epoch [4060], val_loss: 3319.5637\n",
      "Epoch [4080], val_loss: 3377.9617\n",
      "Epoch [4100], val_loss: 3985.4355\n",
      "Epoch [4120], val_loss: 3328.9478\n",
      "Epoch [4140], val_loss: 3692.8259\n",
      "Epoch [4160], val_loss: 3600.8813\n",
      "Epoch [4180], val_loss: 3323.7402\n",
      "Epoch [4200], val_loss: 3415.8335\n",
      "Epoch [4220], val_loss: 3533.7153\n",
      "Epoch [4240], val_loss: 3421.8838\n",
      "Epoch [4260], val_loss: 3411.0637\n",
      "Epoch [4280], val_loss: 4030.6072\n",
      "Epoch [4300], val_loss: 3324.4570\n",
      "Epoch [4320], val_loss: 3453.0061\n",
      "Epoch [4340], val_loss: 3353.9089\n",
      "Epoch [4360], val_loss: 3755.6533\n",
      "Epoch [4380], val_loss: 3945.4507\n",
      "Epoch [4400], val_loss: 3501.3306\n",
      "Epoch [4420], val_loss: 3814.9541\n",
      "Epoch [4440], val_loss: 3359.4370\n",
      "Epoch [4460], val_loss: 3379.2441\n",
      "Epoch [4480], val_loss: 3388.4443\n",
      "Epoch [4500], val_loss: 3532.5674\n",
      "Epoch [4520], val_loss: 4010.2397\n",
      "Epoch [4540], val_loss: 4101.2456\n",
      "Epoch [4560], val_loss: 3334.5691\n",
      "Epoch [4580], val_loss: 3490.0918\n",
      "Epoch [4600], val_loss: 4286.6973\n",
      "Epoch [4620], val_loss: 3323.1143\n",
      "Epoch [4640], val_loss: 3583.6572\n",
      "Epoch [4660], val_loss: 3875.1255\n",
      "Epoch [4680], val_loss: 3399.7886\n",
      "Epoch [4700], val_loss: 3359.5002\n",
      "Epoch [4720], val_loss: 3564.6421\n",
      "Epoch [4740], val_loss: 3990.5493\n",
      "Epoch [4760], val_loss: 3926.7656\n",
      "Epoch [4780], val_loss: 3701.7969\n",
      "Epoch [4800], val_loss: 3555.9536\n",
      "Epoch [4820], val_loss: 3542.8179\n",
      "Epoch [4840], val_loss: 4030.7307\n",
      "Epoch [4860], val_loss: 3330.6975\n"
     ]
    },
    {
     "name": "stdout",
     "output_type": "stream",
     "text": [
      "Epoch [4880], val_loss: 3697.7744\n",
      "Epoch [4900], val_loss: 3990.5928\n",
      "Epoch [4920], val_loss: 3681.6829\n",
      "Epoch [4940], val_loss: 3935.2417\n",
      "Epoch [4960], val_loss: 3350.2808\n",
      "Epoch [4980], val_loss: 3403.2168\n",
      "Epoch [5000], val_loss: 3744.9900\n",
      "Epoch [5020], val_loss: 3690.7004\n",
      "Epoch [5040], val_loss: 3323.2017\n",
      "Epoch [5060], val_loss: 3668.5310\n",
      "Epoch [5080], val_loss: 3530.2864\n",
      "Epoch [5100], val_loss: 4444.3481\n",
      "Epoch [5120], val_loss: 3335.2058\n",
      "Epoch [5140], val_loss: 4144.6079\n",
      "Epoch [5160], val_loss: 3718.4868\n",
      "Epoch [5180], val_loss: 3339.6118\n",
      "Epoch [5200], val_loss: 3969.7954\n",
      "Epoch [5220], val_loss: 3334.4775\n",
      "Epoch [5240], val_loss: 3321.2854\n",
      "Epoch [5260], val_loss: 3298.8386\n",
      "Epoch [5280], val_loss: 3890.2913\n",
      "Epoch [5300], val_loss: 3608.8826\n",
      "Epoch [5320], val_loss: 3629.6118\n",
      "Epoch [5340], val_loss: 3561.8806\n",
      "Epoch [5360], val_loss: 3567.1812\n",
      "Epoch [5380], val_loss: 4070.7864\n",
      "Epoch [5400], val_loss: 3686.9229\n",
      "Epoch [5420], val_loss: 3341.0757\n",
      "Epoch [5440], val_loss: 3975.3352\n",
      "Epoch [5460], val_loss: 3726.0596\n",
      "Epoch [5480], val_loss: 4226.5356\n",
      "Epoch [5500], val_loss: 3679.1003\n",
      "Epoch [5520], val_loss: 3453.8386\n",
      "Epoch [5540], val_loss: 3518.8679\n",
      "Epoch [5560], val_loss: 3318.8635\n",
      "Epoch [5580], val_loss: 4139.6621\n",
      "Epoch [5600], val_loss: 3719.3132\n",
      "Epoch [5620], val_loss: 3593.7891\n",
      "Epoch [5640], val_loss: 3372.8442\n",
      "Epoch [5660], val_loss: 3290.2429\n",
      "Epoch [5680], val_loss: 3505.3677\n",
      "Epoch [5700], val_loss: 3317.3425\n",
      "Epoch [5720], val_loss: 3574.1313\n",
      "Epoch [5740], val_loss: 3557.7710\n",
      "Epoch [5760], val_loss: 3372.1392\n",
      "Epoch [5780], val_loss: 3343.8616\n",
      "Epoch [5800], val_loss: 3353.3164\n",
      "Epoch [5820], val_loss: 3852.3113\n",
      "Epoch [5840], val_loss: 3289.8357\n",
      "Epoch [5860], val_loss: 3679.5972\n",
      "Epoch [5880], val_loss: 3529.7666\n",
      "Epoch [5900], val_loss: 3349.0986\n",
      "Epoch [5920], val_loss: 3410.9089\n",
      "Epoch [5940], val_loss: 3804.9998\n",
      "Epoch [5960], val_loss: 3877.5161\n",
      "Epoch [5980], val_loss: 3336.5789\n",
      "Epoch [6000], val_loss: 3517.8044\n",
      "Epoch [6020], val_loss: 3298.1194\n",
      "Epoch [6040], val_loss: 3438.2495\n",
      "Epoch [6060], val_loss: 3518.9424\n",
      "Epoch [6080], val_loss: 3758.3779\n",
      "Epoch [6100], val_loss: 3275.5601\n",
      "Epoch [6120], val_loss: 3461.6426\n",
      "Epoch [6140], val_loss: 3372.1870\n",
      "Epoch [6160], val_loss: 3303.2502\n",
      "Epoch [6180], val_loss: 3386.3425\n",
      "Epoch [6200], val_loss: 4006.3364\n",
      "Epoch [6220], val_loss: 3298.8008\n",
      "Epoch [6240], val_loss: 3624.2063\n",
      "Epoch [6260], val_loss: 3419.5774\n",
      "Epoch [6280], val_loss: 3947.1538\n",
      "Epoch [6300], val_loss: 3291.5327\n",
      "Epoch [6320], val_loss: 3339.0327\n",
      "Epoch [6340], val_loss: 3351.0493\n",
      "Epoch [6360], val_loss: 3315.6694\n",
      "Epoch [6380], val_loss: 3322.7612\n",
      "Epoch [6400], val_loss: 3279.8489\n",
      "Epoch [6420], val_loss: 3974.3987\n",
      "Epoch [6440], val_loss: 3346.7249\n",
      "Epoch [6460], val_loss: 3421.0942\n",
      "Epoch [6480], val_loss: 3493.1245\n",
      "Epoch [6500], val_loss: 3341.4619\n",
      "Epoch [6520], val_loss: 3313.9766\n",
      "Epoch [6540], val_loss: 3276.4360\n",
      "Epoch [6560], val_loss: 3292.6599\n",
      "Epoch [6580], val_loss: 3366.9971\n",
      "Epoch [6600], val_loss: 3522.4861\n",
      "Epoch [6620], val_loss: 3304.2119\n",
      "Epoch [6640], val_loss: 3402.3701\n",
      "Epoch [6660], val_loss: 3355.3096\n",
      "Epoch [6680], val_loss: 3308.5701\n",
      "Epoch [6700], val_loss: 3320.5781\n",
      "Epoch [6720], val_loss: 3960.3584\n",
      "Epoch [6740], val_loss: 3329.9490\n",
      "Epoch [6760], val_loss: 3318.6392\n",
      "Epoch [6780], val_loss: 3556.2212\n",
      "Epoch [6800], val_loss: 4023.7012\n",
      "Epoch [6820], val_loss: 3463.2510\n",
      "Epoch [6840], val_loss: 3630.2632\n",
      "Epoch [6860], val_loss: 3335.0991\n",
      "Epoch [6880], val_loss: 3359.2900\n",
      "Epoch [6900], val_loss: 3486.9060\n",
      "Epoch [6920], val_loss: 3904.2974\n",
      "Epoch [6940], val_loss: 3338.3765\n",
      "Epoch [6960], val_loss: 3264.9390\n",
      "Epoch [6980], val_loss: 3379.1660\n",
      "Epoch [7000], val_loss: 3587.7048\n",
      "Epoch [7020], val_loss: 3365.4644\n",
      "Epoch [7040], val_loss: 3268.6846\n",
      "Epoch [7060], val_loss: 3395.2747\n",
      "Epoch [7080], val_loss: 3414.7610\n",
      "Epoch [7100], val_loss: 3285.6816\n",
      "Epoch [7120], val_loss: 3390.8633\n",
      "Epoch [7140], val_loss: 3268.1306\n",
      "Epoch [7160], val_loss: 3321.5854\n",
      "Epoch [7180], val_loss: 4325.7690\n",
      "Epoch [7200], val_loss: 3306.7109\n",
      "Epoch [7220], val_loss: 4202.8809\n",
      "Epoch [7240], val_loss: 3610.7268\n",
      "Epoch [7260], val_loss: 3314.9973\n",
      "Epoch [7280], val_loss: 3747.0229\n",
      "Epoch [7300], val_loss: 4598.1528\n",
      "Epoch [7320], val_loss: 3930.7437\n",
      "Epoch [7340], val_loss: 3409.6548\n",
      "Epoch [7360], val_loss: 3296.9771\n",
      "Epoch [7380], val_loss: 3472.1682\n",
      "Epoch [7400], val_loss: 3357.9426\n",
      "Epoch [7420], val_loss: 3515.0632\n",
      "Epoch [7440], val_loss: 3492.7126\n",
      "Epoch [7460], val_loss: 3633.2500\n",
      "Epoch [7480], val_loss: 3314.0762\n",
      "Epoch [7500], val_loss: 3347.3623\n",
      "Epoch [7520], val_loss: 3406.6050\n",
      "Epoch [7540], val_loss: 3708.9065\n",
      "Epoch [7560], val_loss: 3932.4509\n",
      "Epoch [7580], val_loss: 3977.8945\n",
      "Epoch [7600], val_loss: 3680.0667\n",
      "Epoch [7620], val_loss: 3677.5947\n",
      "Epoch [7640], val_loss: 3548.8447\n",
      "Epoch [7660], val_loss: 3432.2593\n",
      "Epoch [7680], val_loss: 3453.4905\n",
      "Epoch [7700], val_loss: 3267.6807\n",
      "Epoch [7720], val_loss: 3350.8132\n",
      "Epoch [7740], val_loss: 3266.6357\n",
      "Epoch [7760], val_loss: 3486.5581\n",
      "Epoch [7780], val_loss: 3451.4368\n",
      "Epoch [7800], val_loss: 3267.4192\n",
      "Epoch [7820], val_loss: 3263.4116\n",
      "Epoch [7840], val_loss: 3477.3201\n",
      "Epoch [7860], val_loss: 3287.2036\n",
      "Epoch [7880], val_loss: 3560.6636\n",
      "Epoch [7900], val_loss: 3273.0657\n",
      "Epoch [7920], val_loss: 3325.7329\n",
      "Epoch [7940], val_loss: 3418.8738\n",
      "Epoch [7960], val_loss: 3408.5115\n",
      "Epoch [7980], val_loss: 3269.2109\n",
      "Epoch [8000], val_loss: 3343.0811\n",
      "Epoch [8020], val_loss: 3476.7310\n",
      "Epoch [8040], val_loss: 3331.8232\n",
      "Epoch [8060], val_loss: 3920.3662\n",
      "Epoch [8080], val_loss: 3495.4534\n",
      "Epoch [8100], val_loss: 3266.8398\n",
      "Epoch [8120], val_loss: 3596.4287\n",
      "Epoch [8140], val_loss: 3288.4763\n",
      "Epoch [8160], val_loss: 3324.3833\n",
      "Epoch [8180], val_loss: 3567.6106\n",
      "Epoch [8200], val_loss: 3515.1040\n",
      "Epoch [8220], val_loss: 3279.5737\n",
      "Epoch [8240], val_loss: 3872.4629\n",
      "Epoch [8260], val_loss: 3378.4399\n",
      "Epoch [8280], val_loss: 3646.9197\n",
      "Epoch [8300], val_loss: 3633.3979\n",
      "Epoch [8320], val_loss: 3240.6765\n",
      "Epoch [8340], val_loss: 4145.1377\n",
      "Epoch [8360], val_loss: 3343.7275\n",
      "Epoch [8380], val_loss: 3652.0261\n",
      "Epoch [8400], val_loss: 3687.6565\n",
      "Epoch [8420], val_loss: 3424.3447\n",
      "Epoch [8440], val_loss: 3316.2729\n",
      "Epoch [8460], val_loss: 3284.6641\n",
      "Epoch [8480], val_loss: 3271.2039\n",
      "Epoch [8500], val_loss: 3246.5198\n",
      "Epoch [8520], val_loss: 3356.3403\n",
      "Epoch [8540], val_loss: 3577.2231\n",
      "Epoch [8560], val_loss: 3467.2180\n",
      "Epoch [8580], val_loss: 4148.5020\n",
      "Epoch [8600], val_loss: 3601.3723\n",
      "Epoch [8620], val_loss: 4245.4448\n",
      "Epoch [8640], val_loss: 3863.5229\n",
      "Epoch [8660], val_loss: 3350.8062\n",
      "Epoch [8680], val_loss: 3230.8484\n",
      "Epoch [8700], val_loss: 3336.0698\n",
      "Epoch [8720], val_loss: 3752.7161\n",
      "Epoch [8740], val_loss: 3293.7009\n",
      "Epoch [8760], val_loss: 3248.6770\n",
      "Epoch [8780], val_loss: 3311.3833\n",
      "Epoch [8800], val_loss: 3242.8047\n",
      "Epoch [8820], val_loss: 3510.8115\n",
      "Epoch [8840], val_loss: 3381.7410\n",
      "Epoch [8860], val_loss: 3426.5198\n",
      "Epoch [8880], val_loss: 3350.6704\n",
      "Epoch [8900], val_loss: 3430.0159\n",
      "Epoch [8920], val_loss: 3784.5786\n",
      "Epoch [8940], val_loss: 3246.1782\n",
      "Epoch [8960], val_loss: 3312.9758\n",
      "Epoch [8980], val_loss: 3861.4082\n",
      "Epoch [9000], val_loss: 3714.0266\n",
      "Epoch [9020], val_loss: 3257.7593\n",
      "Epoch [9040], val_loss: 3887.6650\n",
      "Epoch [9060], val_loss: 3247.2097\n",
      "Epoch [9080], val_loss: 3235.7561\n",
      "Epoch [9100], val_loss: 3382.5691\n",
      "Epoch [9120], val_loss: 3532.2778\n",
      "Epoch [9140], val_loss: 3279.0391\n",
      "Epoch [9160], val_loss: 3362.1765\n",
      "Epoch [9180], val_loss: 3248.7944\n",
      "Epoch [9200], val_loss: 3349.1392\n",
      "Epoch [9220], val_loss: 3273.6040\n",
      "Epoch [9240], val_loss: 3537.7063\n",
      "Epoch [9260], val_loss: 3615.3008\n",
      "Epoch [9280], val_loss: 3238.3369\n",
      "Epoch [9300], val_loss: 3983.9062\n",
      "Epoch [9320], val_loss: 3293.0327\n",
      "Epoch [9340], val_loss: 3235.1721\n",
      "Epoch [9360], val_loss: 3284.0759\n",
      "Epoch [9380], val_loss: 3244.5317\n",
      "Epoch [9400], val_loss: 3304.8711\n",
      "Epoch [9420], val_loss: 3235.0557\n",
      "Epoch [9440], val_loss: 3272.9854\n",
      "Epoch [9460], val_loss: 3220.4688\n",
      "Epoch [9480], val_loss: 3977.5784\n",
      "Epoch [9500], val_loss: 3431.6597\n",
      "Epoch [9520], val_loss: 3397.7466\n",
      "Epoch [9540], val_loss: 3358.5437\n",
      "Epoch [9560], val_loss: 3386.8787\n",
      "Epoch [9580], val_loss: 3271.2598\n",
      "Epoch [9600], val_loss: 3245.8877\n",
      "Epoch [9620], val_loss: 3282.7761\n",
      "Epoch [9640], val_loss: 3253.9314\n",
      "Epoch [9660], val_loss: 3463.0295\n",
      "Epoch [9680], val_loss: 3568.1775\n"
     ]
    },
    {
     "name": "stdout",
     "output_type": "stream",
     "text": [
      "Epoch [9700], val_loss: 3475.0986\n",
      "Epoch [9720], val_loss: 3277.8669\n",
      "Epoch [9740], val_loss: 3725.6545\n",
      "Epoch [9760], val_loss: 4003.1216\n",
      "Epoch [9780], val_loss: 3530.1047\n",
      "Epoch [9800], val_loss: 3325.7942\n",
      "Epoch [9820], val_loss: 3264.9890\n",
      "Epoch [9840], val_loss: 3230.6445\n",
      "Epoch [9860], val_loss: 4008.6062\n",
      "Epoch [9880], val_loss: 3643.7617\n",
      "Epoch [9900], val_loss: 3214.7324\n",
      "Epoch [9920], val_loss: 3455.9724\n",
      "Epoch [9940], val_loss: 3599.2815\n",
      "Epoch [9960], val_loss: 3876.5332\n",
      "Epoch [9980], val_loss: 3447.1123\n",
      "Epoch [10000], val_loss: 3546.0547\n"
     ]
    }
   ],
   "source": [
    "epochs = 10000\n",
    "lr = 1\n",
    "history2 = fit(epochs, lr, model, train_loader, val_loader)"
   ]
  },
  {
   "cell_type": "code",
   "execution_count": 180,
   "metadata": {},
   "outputs": [
    {
     "name": "stdout",
     "output_type": "stream",
     "text": [
      "Epoch [20], val_loss: 7309.7812\n",
      "Epoch [40], val_loss: 7309.4502\n",
      "Epoch [60], val_loss: 7309.3940\n",
      "Epoch [80], val_loss: 7309.4253\n",
      "Epoch [100], val_loss: 7309.3516\n",
      "Epoch [120], val_loss: 7309.4541\n",
      "Epoch [140], val_loss: 7309.3325\n",
      "Epoch [160], val_loss: 7309.2510\n",
      "Epoch [180], val_loss: 7309.2349\n",
      "Epoch [200], val_loss: 7309.1250\n",
      "Epoch [220], val_loss: 7308.9097\n",
      "Epoch [240], val_loss: 7309.1147\n",
      "Epoch [260], val_loss: 7309.0991\n",
      "Epoch [280], val_loss: 7309.0723\n",
      "Epoch [300], val_loss: 7308.9092\n",
      "Epoch [320], val_loss: 7308.8599\n",
      "Epoch [340], val_loss: 7308.7549\n",
      "Epoch [360], val_loss: 7308.7090\n",
      "Epoch [380], val_loss: 7308.6079\n",
      "Epoch [400], val_loss: 7308.3096\n",
      "Epoch [420], val_loss: 7308.4961\n",
      "Epoch [440], val_loss: 7308.4053\n",
      "Epoch [460], val_loss: 7308.3604\n",
      "Epoch [480], val_loss: 7308.2412\n",
      "Epoch [500], val_loss: 7308.1602\n"
     ]
    }
   ],
   "source": [
    "epochs = 500\n",
    "lr = 1e-3\n",
    "history3 = fit(epochs, lr, model, train_loader, val_loader)"
   ]
  },
  {
   "cell_type": "code",
   "execution_count": 181,
   "metadata": {},
   "outputs": [
    {
     "name": "stdout",
     "output_type": "stream",
     "text": [
      "Epoch [20], val_loss: 7308.1606\n",
      "Epoch [40], val_loss: 7308.1699\n",
      "Epoch [60], val_loss: 7308.1577\n",
      "Epoch [80], val_loss: 7308.1377\n",
      "Epoch [100], val_loss: 7308.1411\n",
      "Epoch [120], val_loss: 7308.1426\n",
      "Epoch [140], val_loss: 7308.1382\n",
      "Epoch [160], val_loss: 7308.1250\n",
      "Epoch [180], val_loss: 7308.1104\n",
      "Epoch [200], val_loss: 7308.1162\n",
      "Epoch [220], val_loss: 7308.1035\n",
      "Epoch [240], val_loss: 7308.1035\n",
      "Epoch [260], val_loss: 7308.0752\n",
      "Epoch [280], val_loss: 7308.0781\n",
      "Epoch [300], val_loss: 7308.0732\n",
      "Epoch [320], val_loss: 7308.0576\n",
      "Epoch [340], val_loss: 7308.0527\n",
      "Epoch [360], val_loss: 7308.0464\n",
      "Epoch [380], val_loss: 7308.0435\n",
      "Epoch [400], val_loss: 7308.0420\n",
      "Epoch [420], val_loss: 7308.0332\n",
      "Epoch [440], val_loss: 7308.0347\n",
      "Epoch [460], val_loss: 7308.0098\n",
      "Epoch [480], val_loss: 7307.9863\n",
      "Epoch [500], val_loss: 7307.9814\n"
     ]
    }
   ],
   "source": [
    "epochs = 500\n",
    "lr = 1e-4\n",
    "history4 = fit(epochs, lr, model, train_loader, val_loader)"
   ]
  },
  {
   "cell_type": "code",
   "execution_count": 182,
   "metadata": {},
   "outputs": [
    {
     "name": "stdout",
     "output_type": "stream",
     "text": [
      "Epoch [20], val_loss: 7307.9810\n",
      "Epoch [40], val_loss: 7307.9805\n",
      "Epoch [60], val_loss: 7307.9810\n",
      "Epoch [80], val_loss: 7307.9805\n",
      "Epoch [100], val_loss: 7307.9824\n",
      "Epoch [120], val_loss: 7307.9824\n",
      "Epoch [140], val_loss: 7307.9834\n",
      "Epoch [160], val_loss: 7307.9834\n",
      "Epoch [180], val_loss: 7307.9829\n",
      "Epoch [200], val_loss: 7307.9854\n",
      "Epoch [220], val_loss: 7307.9844\n",
      "Epoch [240], val_loss: 7307.9829\n",
      "Epoch [260], val_loss: 7307.9819\n",
      "Epoch [280], val_loss: 7307.9839\n",
      "Epoch [300], val_loss: 7307.9824\n"
     ]
    }
   ],
   "source": [
    "epochs = 300\n",
    "lr = 1e-5\n",
    "history5 = fit(epochs, lr, model, train_loader, val_loader)"
   ]
  },
  {
   "cell_type": "markdown",
   "metadata": {},
   "source": [
    "**Q: What is the final validation loss of your model?**"
   ]
  },
  {
   "cell_type": "code",
   "execution_count": 77,
   "metadata": {},
   "outputs": [
    {
     "name": "stdout",
     "output_type": "stream",
     "text": [
      "3220.4688\n"
     ]
    }
   ],
   "source": [
    "val_loss = 3220.4688\n",
    "print(val_loss)"
   ]
  },
  {
   "cell_type": "code",
   "execution_count": 76,
   "metadata": {},
   "outputs": [
    {
     "data": {
      "text/plain": [
       "[<matplotlib.lines.Line2D at 0x1a21667c90>]"
      ]
     },
     "execution_count": 76,
     "metadata": {},
     "output_type": "execute_result"
    },
    {
     "data": {
      "image/png": "[encoded data removed]",
      "text/plain": [
       "<Figure size 432x288 with 1 Axes>"
      ]
     },
     "metadata": {
      "needs_background": "light"
     },
     "output_type": "display_data"
    }
   ],
   "source": [
    "plt.plot([x['val_loss'] for x in history1+history2])\n"
   ]
  },
  {
   "cell_type": "markdown",
   "metadata": {},
   "source": [
    "Let's log the final validation loss to Jovian and commit the notebook"
   ]
  },
  {
   "cell_type": "code",
   "execution_count": 78,
   "metadata": {},
   "outputs": [
    {
     "name": "stdout",
     "output_type": "stream",
     "text": [
      "[jovian] Metrics logged.\u001b[0m\n"
     ]
    }
   ],
   "source": [
    "jovian.log_metrics(val_loss=val_loss)"
   ]
  },
  {
   "cell_type": "code",
   "execution_count": 79,
   "metadata": {},
   "outputs": [
    {
     "data": {
      "application/javascript": [
       "window.require && require([\"base/js/namespace\"],function(Jupyter){Jupyter.notebook.save_checkpoint()})"
      ],
      "text/plain": [
       "<IPython.core.display.Javascript object>"
      ]
     },
     "metadata": {},
     "output_type": "display_data"
    },
    {
     "name": "stdout",
     "output_type": "stream",
     "text": [
      "[jovian] Attempting to save notebook..\u001b[0m\n",
      "[jovian] Updating notebook \"quentinmadura/02-insurance-linear-regression\" on https://jovian.ml/\u001b[0m\n",
      "[jovian] Uploading notebook..\u001b[0m\n",
      "[jovian] Attaching records (metrics, hyperparameters, dataset etc.)\u001b[0m\n",
      "[jovian] Committed successfully! https://jovian.ml/quentinmadura/02-insurance-linear-regression\u001b[0m\n"
     ]
    },
    {
     "data": {
      "text/plain": [
       "'https://jovian.ml/quentinmadura/02-insurance-linear-regression'"
      ]
     },
     "execution_count": 79,
     "metadata": {},
     "output_type": "execute_result"
    }
   ],
   "source": [
    "jovian.commit(project=project_name, environment=None)"
   ]
  },
  {
   "cell_type": "markdown",
   "metadata": {},
   "source": [
    "Now scroll back up, re-initialize the model, and try different set of values for batch size, number of epochs, learning rate etc. Commit each experiment and use the \"Compare\" and \"View Diff\" options on Jovian to compare the different results."
   ]
  },
  {
   "cell_type": "markdown",
   "metadata": {},
   "source": [
    "## Step 5: Make predictions using the trained model\n",
    "\n",
    "**Q: Complete the following function definition to make predictions on a single input**"
   ]
  },
  {
   "cell_type": "code",
   "execution_count": 183,
   "metadata": {},
   "outputs": [],
   "source": [
    "def predict_single(input, target, model):\n",
    "    inputs = input.unsqueeze(0)\n",
    "    predictions = model(inputs)\n",
    "    prediction = predictions[0].detach()\n",
    "    print(\"Input:\", input)\n",
    "    print(\"Target:\", target)\n",
    "    print(\"Prediction:\", prediction)"
   ]
  },
  {
   "cell_type": "code",
   "execution_count": 184,
   "metadata": {},
   "outputs": [
    {
     "name": "stdout",
     "output_type": "stream",
     "text": [
      "Input: tensor([54.0000,  1.0000, 24.5817,  2.0000,  0.0000,  2.0000])\n",
      "Target: tensor([11123.8486])\n",
      "Prediction: tensor([12207.9150])\n"
     ]
    }
   ],
   "source": [
    "input, target = val_ds[0]\n",
    "predict_single(input, target, model)"
   ]
  },
  {
   "cell_type": "code",
   "execution_count": 185,
   "metadata": {},
   "outputs": [
    {
     "name": "stdout",
     "output_type": "stream",
     "text": [
      "Input: tensor([55.0000,  1.0000, 32.3447,  0.0000,  0.0000,  1.0000])\n",
      "Target: tensor([10700.4463])\n",
      "Prediction: tensor([11609.5430])\n"
     ]
    }
   ],
   "source": [
    "input, target = val_ds[10]\n",
    "predict_single(input, target, model)"
   ]
  },
  {
   "cell_type": "code",
   "execution_count": 186,
   "metadata": {},
   "outputs": [
    {
     "name": "stdout",
     "output_type": "stream",
     "text": [
      "Input: tensor([33.0000,  1.0000, 41.8275,  2.0000,  0.0000,  2.0000])\n",
      "Target: tensor([4938.8994])\n",
      "Prediction: tensor([5564.7515])\n"
     ]
    }
   ],
   "source": [
    "input, target = val_ds[50]\n",
    "predict_single(input, target, model)"
   ]
  },
  {
   "cell_type": "markdown",
   "metadata": {},
   "source": [
    "Are you happy with your model's predictions? Try to improve them further."
   ]
  },
  {
   "cell_type": "markdown",
   "metadata": {},
   "source": [
    "## (Optional) Step 6: Try another dataset & blog about it\n",
    "\n",
    "While this last step is optional for the submission of your assignment, we highly recommend that you do it. Try to clean up & replicate this notebook (or [this one](https://jovian.ml/aakashns/housing-linear-minimal), or [this one](https://jovian.ml/aakashns/mnist-logistic-minimal) ) for a different linear regression or logistic regression problem. This will help solidify your understanding, and give you a chance to differentiate the generic patters in machine learning from problem-specific details.\n",
    "\n",
    "Here are some sources to find good datasets:\n",
    "\n",
    "- https://lionbridge.ai/datasets/10-open-datasets-for-linear-regression/\n",
    "- https://www.kaggle.com/rtatman/datasets-for-regression-analysis\n",
    "- https://archive.ics.uci.edu/ml/datasets.php?format=&task=reg&att=&area=&numAtt=&numIns=&type=&sort=nameUp&view=table\n",
    "- https://people.sc.fsu.edu/~jburkardt/datasets/regression/regression.html\n",
    "- https://archive.ics.uci.edu/ml/datasets/wine+quality\n",
    "- https://pytorch.org/docs/stable/torchvision/datasets.html\n",
    "\n",
    "We also recommend that you write a blog about your approach to the problem. Here is a suggested structure for your post (feel free to experiment with it):\n",
    "\n",
    "- Interesting title & subtitle\n",
    "- Overview of what the blog covers (which dataset, linear regression or logistic regression, intro to PyTorch)\n",
    "- Downloading & exploring the data\n",
    "- Preparing the data for training\n",
    "- Creating a model using PyTorch\n",
    "- Training the model to fit the data\n",
    "- Your thoughts on how to experiment with different hyperparmeters to reduce loss\n",
    "- Making predictions using the model\n",
    "\n",
    "As with the previous assignment, you can [embed Juptyer notebook cells & outputs from Jovian](https://medium.com/jovianml/share-and-embed-jupyter-notebooks-online-with-jovian-ml-df709a03064e) into your blog. \n",
    "\n",
    "Don't forget to share your work on the forum: https://jovian.ml/forum/t/share-your-work-here-assignment-2/4931"
   ]
  },
  {
   "cell_type": "code",
   "execution_count": null,
   "metadata": {},
   "outputs": [],
   "source": [
    "jovian.commit(project=project_name, environment=None)\n",
    "jovian.commit(project=project_name, environment=None) # try again, kaggle fails sometimes"
   ]
  },
  {
   "cell_type": "markdown",
   "metadata": {},
   "source": [
    "# Curated list of resources:\n",
    "## Epoch vs iterations vs batch size\n",
    "Towards Data Science - SAGAR SHARMA\n",
    "https://towardsdatascience.com/epoch-vs-iterations-vs-batch-size-4dfb9c7ce9c9\n",
    "Comprendre le deep learning: Une introduction aux réseaux de neurones - Jean-Claude Heudin \n",
    "https://www.amazon.com/Comprendre-Deep-Learning-introduction-neurones/dp/B01MSFLMFD"
   ]
  }
 ],
 "metadata": {
  "kernelspec": {
   "display_name": "Python 3",
   "language": "python",
   "name": "python3"
  },
  "language_info": {
   "codemirror_mode": {
    "name": "ipython",
    "version": 3
   },
   "file_extension": ".py",
   "mimetype": "text/x-python",
   "name": "python",
   "nbconvert_exporter": "python",
   "pygments_lexer": "ipython3",
   "version": "3.7.7"
  }
 },
 "nbformat": 4,
 "nbformat_minor": 4
}
